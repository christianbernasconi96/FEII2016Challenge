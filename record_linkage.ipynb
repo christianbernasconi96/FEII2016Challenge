{
 "cells": [
  {
   "cell_type": "markdown",
   "metadata": {},
   "source": [
    "## General Info"
   ]
  },
  {
   "cell_type": "markdown",
   "metadata": {},
   "source": [
    "This notebook contains a record linkage process using different kinds of preprocessing, blockings and classifier approaches for the __FEII 2016 challenge__. <br>\n",
    "All information about the challenge are available at this link: https://ir.nist.gov/feiii/2016-challenge.html"
   ]
  },
  {
   "cell_type": "markdown",
   "metadata": {},
   "source": [
    "All datasets provided contains information about __financial entities__ from different sources."
   ]
  },
  {
   "cell_type": "markdown",
   "metadata": {},
   "source": [
    "This challenge also provides us __partial ground truths__ to evaluate our matchings. "
   ]
  },
  {
   "cell_type": "markdown",
   "metadata": {},
   "source": [
    "### Goals"
   ]
  },
  {
   "cell_type": "markdown",
   "metadata": {},
   "source": [
    "The goals of this challenge are: <br>\n",
    "\n",
    "- identify matching records between __FFIEC and LEI__ datasets (FFIEC ⭢ LEI)\n",
    "- identify matching records between __FFIEC and SEC__ datasets (FFIEC ⭢ SEC)"
   ]
  },
  {
   "cell_type": "markdown",
   "metadata": {},
   "source": [
    "### Tools and workflow"
   ]
  },
  {
   "cell_type": "markdown",
   "metadata": {},
   "source": [
    "Our record linkage process makes use of the __Python Record Linkage Toolkit__ (Documentation: https://recordlinkage.readthedocs.io/en/latest/about.html). <br> The package contains indexing (or blocking) methods, functions to compare records and machine learning classifiers to classify matching and not matching records. We also use standalone machine learning classifiers for a supervised learning approach. <br>"
   ]
  },
  {
   "cell_type": "markdown",
   "metadata": {},
   "source": [
    "The workflow adopted for this project is the following:"
   ]
  },
  {
   "cell_type": "markdown",
   "metadata": {},
   "source": [
    "<img src=\"./report/images/workflow.png\">"
   ]
  },
  {
   "cell_type": "markdown",
   "metadata": {},
   "source": [
    "## Imports"
   ]
  },
  {
   "cell_type": "code",
   "execution_count": 1,
   "metadata": {},
   "outputs": [],
   "source": [
    "import recordlinkage\n",
    "from recordlinkage.preprocessing import clean\n",
    "from recordlinkage.compare import Exact, String, VariableA, VariableB\n",
    "import pandas as pd\n",
    "import nltk\n",
    "from cleanco import cleanco\n",
    "from collections import Counter\n",
    "import re\n",
    "import time\n",
    "import math\n",
    "import random\n",
    "import numpy as np\n",
    "import matplotlib.pyplot as plt\n",
    "from sklearn.metrics import confusion_matrix, make_scorer\n",
    "from sklearn.model_selection import GridSearchCV, StratifiedKFold, train_test_split\n",
    "from sklearn.ensemble import RandomForestClassifier"
   ]
  },
  {
   "cell_type": "markdown",
   "metadata": {},
   "source": [
    "## Read Datasets"
   ]
  },
  {
   "cell_type": "markdown",
   "metadata": {},
   "source": [
    "In this section we read all datasets needed:\n",
    "\n",
    "- FFIEC\n",
    "- LEI\n",
    "- SEC\n",
    "- ground truths"
   ]
  },
  {
   "cell_type": "markdown",
   "metadata": {},
   "source": [
    "### Read FFIEC"
   ]
  },
  {
   "cell_type": "code",
   "execution_count": 2,
   "metadata": {},
   "outputs": [],
   "source": [
    "df1 = pd.read_csv('./data/FFIEC.csv')"
   ]
  },
  {
   "cell_type": "code",
   "execution_count": 3,
   "metadata": {},
   "outputs": [
    {
     "data": {
      "text/html": [
       "<div>\n",
       "<style scoped>\n",
       "    .dataframe tbody tr th:only-of-type {\n",
       "        vertical-align: middle;\n",
       "    }\n",
       "\n",
       "    .dataframe tbody tr th {\n",
       "        vertical-align: top;\n",
       "    }\n",
       "\n",
       "    .dataframe thead th {\n",
       "        text-align: right;\n",
       "    }\n",
       "</style>\n",
       "<table border=\"1\" class=\"dataframe\">\n",
       "  <thead>\n",
       "    <tr style=\"text-align: right;\">\n",
       "      <th></th>\n",
       "      <th>IDRSSD</th>\n",
       "      <th>FDIC Certificate Number</th>\n",
       "      <th>OCC Charter Number</th>\n",
       "      <th>OTS Docket Number</th>\n",
       "      <th>Primary ABA Routing Number</th>\n",
       "      <th>Financial Institution Name</th>\n",
       "      <th>Financial Institution Name Cleaned</th>\n",
       "      <th>Financial Institution Address</th>\n",
       "      <th>Financial Institution City</th>\n",
       "      <th>Financial Institution State</th>\n",
       "      <th>Financial Institution Zip Code</th>\n",
       "      <th>Financial Institution Zip Code 5</th>\n",
       "      <th>Financial Institution Filing Type</th>\n",
       "      <th>Last Date/Time Submission Updated On</th>\n",
       "    </tr>\n",
       "  </thead>\n",
       "  <tbody>\n",
       "    <tr>\n",
       "      <th>0</th>\n",
       "      <td>37</td>\n",
       "      <td>10057</td>\n",
       "      <td>0</td>\n",
       "      <td>16553</td>\n",
       "      <td>61107146</td>\n",
       "      <td>BANK OF HANCOCK COUNTY</td>\n",
       "      <td>BANK OF HANCOCK COUNTY</td>\n",
       "      <td>12855 BROAD STREET</td>\n",
       "      <td>SPARTA</td>\n",
       "      <td>GA</td>\n",
       "      <td>31087</td>\n",
       "      <td>31087</td>\n",
       "      <td>41</td>\n",
       "      <td>2014-10-24T16:36:37</td>\n",
       "    </tr>\n",
       "    <tr>\n",
       "      <th>1</th>\n",
       "      <td>242</td>\n",
       "      <td>3850</td>\n",
       "      <td>0</td>\n",
       "      <td>0</td>\n",
       "      <td>81220537</td>\n",
       "      <td>FIRST COMMUNITY BANK XENIA-FLORA</td>\n",
       "      <td>FIRST COMMUNITY BANK XENIA-FLORA</td>\n",
       "      <td>260 FRONT STREET</td>\n",
       "      <td>XENIA</td>\n",
       "      <td>IL</td>\n",
       "      <td>62899</td>\n",
       "      <td>62899</td>\n",
       "      <td>41</td>\n",
       "      <td>2014-10-28T12:58:37</td>\n",
       "    </tr>\n",
       "    <tr>\n",
       "      <th>2</th>\n",
       "      <td>279</td>\n",
       "      <td>28868</td>\n",
       "      <td>0</td>\n",
       "      <td>2523</td>\n",
       "      <td>311972526</td>\n",
       "      <td>MINEOLA COMMUNITY BANK, SSB</td>\n",
       "      <td>MINEOLA COMMUNITY BANK, SSB</td>\n",
       "      <td>215 W BROAD</td>\n",
       "      <td>MINEOLA</td>\n",
       "      <td>TX</td>\n",
       "      <td>75773</td>\n",
       "      <td>75773</td>\n",
       "      <td>41</td>\n",
       "      <td>2014-10-28T14:04:07</td>\n",
       "    </tr>\n",
       "    <tr>\n",
       "      <th>3</th>\n",
       "      <td>354</td>\n",
       "      <td>14083</td>\n",
       "      <td>0</td>\n",
       "      <td>0</td>\n",
       "      <td>101107475</td>\n",
       "      <td>BISON STATE BANK</td>\n",
       "      <td>BISON STATE BANK</td>\n",
       "      <td>223 MAIN STREET</td>\n",
       "      <td>BISON</td>\n",
       "      <td>KS</td>\n",
       "      <td>67520</td>\n",
       "      <td>67520</td>\n",
       "      <td>41</td>\n",
       "      <td>2014-10-23T13:12:50</td>\n",
       "    </tr>\n",
       "    <tr>\n",
       "      <th>4</th>\n",
       "      <td>457</td>\n",
       "      <td>10202</td>\n",
       "      <td>0</td>\n",
       "      <td>0</td>\n",
       "      <td>91208332</td>\n",
       "      <td>LOWRY STATE BANK</td>\n",
       "      <td>LOWRY STATE BANK</td>\n",
       "      <td>400 FLORENCE AVE.</td>\n",
       "      <td>LOWRY</td>\n",
       "      <td>MN</td>\n",
       "      <td>56349</td>\n",
       "      <td>56349</td>\n",
       "      <td>41</td>\n",
       "      <td>2014-10-14T11:52:12</td>\n",
       "    </tr>\n",
       "  </tbody>\n",
       "</table>\n",
       "</div>"
      ],
      "text/plain": [
       "   IDRSSD  FDIC Certificate Number  OCC Charter Number  OTS Docket Number  \\\n",
       "0      37                    10057                   0              16553   \n",
       "1     242                     3850                   0                  0   \n",
       "2     279                    28868                   0               2523   \n",
       "3     354                    14083                   0                  0   \n",
       "4     457                    10202                   0                  0   \n",
       "\n",
       "   Primary ABA Routing Number        Financial Institution Name  \\\n",
       "0                    61107146            BANK OF HANCOCK COUNTY   \n",
       "1                    81220537  FIRST COMMUNITY BANK XENIA-FLORA   \n",
       "2                   311972526       MINEOLA COMMUNITY BANK, SSB   \n",
       "3                   101107475                  BISON STATE BANK   \n",
       "4                    91208332                  LOWRY STATE BANK   \n",
       "\n",
       "  Financial Institution Name Cleaned Financial Institution Address  \\\n",
       "0             BANK OF HANCOCK COUNTY           12855 BROAD STREET    \n",
       "1   FIRST COMMUNITY BANK XENIA-FLORA             260 FRONT STREET    \n",
       "2        MINEOLA COMMUNITY BANK, SSB                  215 W BROAD    \n",
       "3                   BISON STATE BANK              223 MAIN STREET    \n",
       "4                   LOWRY STATE BANK            400 FLORENCE AVE.    \n",
       "\n",
       "  Financial Institution City Financial Institution State  \\\n",
       "0                     SPARTA                          GA   \n",
       "1                      XENIA                          IL   \n",
       "2                    MINEOLA                          TX   \n",
       "3                      BISON                          KS   \n",
       "4                      LOWRY                          MN   \n",
       "\n",
       "  Financial Institution Zip Code  Financial Institution Zip Code 5  \\\n",
       "0                          31087                             31087   \n",
       "1                          62899                             62899   \n",
       "2                          75773                             75773   \n",
       "3                          67520                             67520   \n",
       "4                          56349                             56349   \n",
       "\n",
       "   Financial Institution Filing Type Last Date/Time Submission Updated On  \n",
       "0                                 41                  2014-10-24T16:36:37  \n",
       "1                                 41                  2014-10-28T12:58:37  \n",
       "2                                 41                  2014-10-28T14:04:07  \n",
       "3                                 41                  2014-10-23T13:12:50  \n",
       "4                                 41                  2014-10-14T11:52:12  "
      ]
     },
     "execution_count": 3,
     "metadata": {},
     "output_type": "execute_result"
    }
   ],
   "source": [
    "df1.head(5)"
   ]
  },
  {
   "cell_type": "markdown",
   "metadata": {},
   "source": [
    "### Read LEI"
   ]
  },
  {
   "cell_type": "code",
   "execution_count": 4,
   "metadata": {},
   "outputs": [],
   "source": [
    "df2 = pd.read_csv('./data/LEI.csv', engine='python')"
   ]
  },
  {
   "cell_type": "code",
   "execution_count": 5,
   "metadata": {},
   "outputs": [
    {
     "data": {
      "text/html": [
       "<div>\n",
       "<style scoped>\n",
       "    .dataframe tbody tr th:only-of-type {\n",
       "        vertical-align: middle;\n",
       "    }\n",
       "\n",
       "    .dataframe tbody tr th {\n",
       "        vertical-align: top;\n",
       "    }\n",
       "\n",
       "    .dataframe thead th {\n",
       "        text-align: right;\n",
       "    }\n",
       "</style>\n",
       "<table border=\"1\" class=\"dataframe\">\n",
       "  <thead>\n",
       "    <tr style=\"text-align: right;\">\n",
       "      <th></th>\n",
       "      <th>LOU</th>\n",
       "      <th>LOU_ID</th>\n",
       "      <th>LEI</th>\n",
       "      <th>LegalName</th>\n",
       "      <th>LegalNameCleaned</th>\n",
       "      <th>AssociatedLEI</th>\n",
       "      <th>AssociatedEntityName</th>\n",
       "      <th>LegalAddress_Line_Cleaned</th>\n",
       "      <th>LegalAddress_Line_Combined</th>\n",
       "      <th>LegalAddress_Line1</th>\n",
       "      <th>...</th>\n",
       "      <th>BusinessRegisterEntityID</th>\n",
       "      <th>EntityStatus</th>\n",
       "      <th>InitialRegistrationDate</th>\n",
       "      <th>RegistrationStatus</th>\n",
       "      <th>LastUpdateDate</th>\n",
       "      <th>EntityExpirationDate</th>\n",
       "      <th>EntityExpirationReason</th>\n",
       "      <th>NextRenewalDate</th>\n",
       "      <th>SuccessorLEI</th>\n",
       "      <th>LegalForm</th>\n",
       "    </tr>\n",
       "  </thead>\n",
       "  <tbody>\n",
       "    <tr>\n",
       "      <th>0</th>\n",
       "      <td>5493</td>\n",
       "      <td>GMEI</td>\n",
       "      <td>549300D5GJV4HUX52B25</td>\n",
       "      <td>Black Diamond BGWB14 Inc.</td>\n",
       "      <td>Black Diamond BGWB14 Inc.</td>\n",
       "      <td>NaN</td>\n",
       "      <td>NaN</td>\n",
       "      <td>Corporation Trust Center 1209 Orange Street</td>\n",
       "      <td>C/O The Corporation Trust Company Corporation ...</td>\n",
       "      <td>C/O The Corporation Trust Company</td>\n",
       "      <td>...</td>\n",
       "      <td>NaN</td>\n",
       "      <td>ACTIVE</td>\n",
       "      <td>2/22/14</td>\n",
       "      <td>ISSUED</td>\n",
       "      <td>1/24/15</td>\n",
       "      <td>NaN</td>\n",
       "      <td>NaN</td>\n",
       "      <td>1/13/16</td>\n",
       "      <td>NaN</td>\n",
       "      <td>INCORPORATED</td>\n",
       "    </tr>\n",
       "    <tr>\n",
       "      <th>1</th>\n",
       "      <td>2138</td>\n",
       "      <td>IEI</td>\n",
       "      <td>213800AEWHVA48PG1673</td>\n",
       "      <td>INFIGEN ENERGY US PARTNERSHIP</td>\n",
       "      <td>INFIGEN ENERGY US PARTNERSHIP</td>\n",
       "      <td>NaN</td>\n",
       "      <td>NaN</td>\n",
       "      <td>CORPORATION SERVICE COMPANY 2711 CENTERVILLE R...</td>\n",
       "      <td>CORPORATION SERVICE COMPANY 2711 CENTERVILLE R...</td>\n",
       "      <td>CORPORATION SERVICE COMPANY</td>\n",
       "      <td>...</td>\n",
       "      <td>4350761</td>\n",
       "      <td>ACTIVE</td>\n",
       "      <td>12/22/14</td>\n",
       "      <td>ISSUED</td>\n",
       "      <td>12/22/14</td>\n",
       "      <td>NaN</td>\n",
       "      <td>NaN</td>\n",
       "      <td>12/22/15</td>\n",
       "      <td>NaN</td>\n",
       "      <td>PARTNERSHIP</td>\n",
       "    </tr>\n",
       "    <tr>\n",
       "      <th>2</th>\n",
       "      <td>5493</td>\n",
       "      <td>GMEI</td>\n",
       "      <td>5493001BP0K5C4YI1257</td>\n",
       "      <td>Nextgen Finance, LLC</td>\n",
       "      <td>Nextgen Finance, LLC</td>\n",
       "      <td>NaN</td>\n",
       "      <td>NaN</td>\n",
       "      <td>2711 Centerville Road Suite 400</td>\n",
       "      <td>C/O Corporation Service Company 2711 Centervil...</td>\n",
       "      <td>C/O Corporation Service Company</td>\n",
       "      <td>...</td>\n",
       "      <td>NaN</td>\n",
       "      <td>ACTIVE</td>\n",
       "      <td>5/17/14</td>\n",
       "      <td>ISSUED</td>\n",
       "      <td>4/2/15</td>\n",
       "      <td>NaN</td>\n",
       "      <td>NaN</td>\n",
       "      <td>3/28/16</td>\n",
       "      <td>NaN</td>\n",
       "      <td>LIMITED LIABILITY COMPANY</td>\n",
       "    </tr>\n",
       "    <tr>\n",
       "      <th>3</th>\n",
       "      <td>5493</td>\n",
       "      <td>GMEI</td>\n",
       "      <td>549300O17WX08AA1RA13</td>\n",
       "      <td>pControl North America Inc.</td>\n",
       "      <td>pControl North America Inc.</td>\n",
       "      <td>NaN</td>\n",
       "      <td>NaN</td>\n",
       "      <td>615 South DuPont Highway</td>\n",
       "      <td>C/O National Corporate Research, Ltd. 615 Sout...</td>\n",
       "      <td>C/O National Corporate Research, Ltd.</td>\n",
       "      <td>...</td>\n",
       "      <td>NaN</td>\n",
       "      <td>ACTIVE</td>\n",
       "      <td>5/24/14</td>\n",
       "      <td>ISSUED</td>\n",
       "      <td>4/18/15</td>\n",
       "      <td>NaN</td>\n",
       "      <td>NaN</td>\n",
       "      <td>4/16/16</td>\n",
       "      <td>NaN</td>\n",
       "      <td>INCORPORATED</td>\n",
       "    </tr>\n",
       "    <tr>\n",
       "      <th>4</th>\n",
       "      <td>5493</td>\n",
       "      <td>GMEI</td>\n",
       "      <td>549300S6SBBS482XV369</td>\n",
       "      <td>RYCO Hydraulics, Inc.</td>\n",
       "      <td>RYCO Hydraulics, Inc.</td>\n",
       "      <td>NaN</td>\n",
       "      <td>NaN</td>\n",
       "      <td>615 South DuPont Highway Suite 100</td>\n",
       "      <td>C/O Nelson C Metzler Jr 615 South DuPont Highw...</td>\n",
       "      <td>C/O Nelson C Metzler Jr</td>\n",
       "      <td>...</td>\n",
       "      <td>NaN</td>\n",
       "      <td>ACTIVE</td>\n",
       "      <td>9/6/14</td>\n",
       "      <td>ISSUED</td>\n",
       "      <td>9/6/14</td>\n",
       "      <td>NaN</td>\n",
       "      <td>NaN</td>\n",
       "      <td>9/4/15</td>\n",
       "      <td>NaN</td>\n",
       "      <td>INCORPORATED</td>\n",
       "    </tr>\n",
       "  </tbody>\n",
       "</table>\n",
       "<p>5 rows × 39 columns</p>\n",
       "</div>"
      ],
      "text/plain": [
       "    LOU LOU_ID                   LEI                      LegalName  \\\n",
       "0  5493   GMEI  549300D5GJV4HUX52B25      Black Diamond BGWB14 Inc.   \n",
       "1  2138    IEI  213800AEWHVA48PG1673  INFIGEN ENERGY US PARTNERSHIP   \n",
       "2  5493   GMEI  5493001BP0K5C4YI1257           Nextgen Finance, LLC   \n",
       "3  5493   GMEI  549300O17WX08AA1RA13    pControl North America Inc.   \n",
       "4  5493   GMEI  549300S6SBBS482XV369          RYCO Hydraulics, Inc.   \n",
       "\n",
       "                LegalNameCleaned AssociatedLEI AssociatedEntityName  \\\n",
       "0      Black Diamond BGWB14 Inc.           NaN                  NaN   \n",
       "1  INFIGEN ENERGY US PARTNERSHIP           NaN                  NaN   \n",
       "2           Nextgen Finance, LLC           NaN                  NaN   \n",
       "3    pControl North America Inc.           NaN                  NaN   \n",
       "4          RYCO Hydraulics, Inc.           NaN                  NaN   \n",
       "\n",
       "                           LegalAddress_Line_Cleaned  \\\n",
       "0       Corporation Trust Center 1209 Orange Street    \n",
       "1  CORPORATION SERVICE COMPANY 2711 CENTERVILLE R...   \n",
       "2                   2711 Centerville Road Suite 400    \n",
       "3                         615 South DuPont Highway     \n",
       "4                615 South DuPont Highway Suite 100    \n",
       "\n",
       "                          LegalAddress_Line_Combined  \\\n",
       "0  C/O The Corporation Trust Company Corporation ...   \n",
       "1  CORPORATION SERVICE COMPANY 2711 CENTERVILLE R...   \n",
       "2  C/O Corporation Service Company 2711 Centervil...   \n",
       "3  C/O National Corporate Research, Ltd. 615 Sout...   \n",
       "4  C/O Nelson C Metzler Jr 615 South DuPont Highw...   \n",
       "\n",
       "                      LegalAddress_Line1  ... BusinessRegisterEntityID  \\\n",
       "0      C/O The Corporation Trust Company  ...                      NaN   \n",
       "1            CORPORATION SERVICE COMPANY  ...                  4350761   \n",
       "2        C/O Corporation Service Company  ...                      NaN   \n",
       "3  C/O National Corporate Research, Ltd.  ...                      NaN   \n",
       "4                C/O Nelson C Metzler Jr  ...                      NaN   \n",
       "\n",
       "  EntityStatus InitialRegistrationDate RegistrationStatus LastUpdateDate  \\\n",
       "0       ACTIVE                 2/22/14             ISSUED        1/24/15   \n",
       "1       ACTIVE                12/22/14             ISSUED       12/22/14   \n",
       "2       ACTIVE                 5/17/14             ISSUED         4/2/15   \n",
       "3       ACTIVE                 5/24/14             ISSUED        4/18/15   \n",
       "4       ACTIVE                  9/6/14             ISSUED         9/6/14   \n",
       "\n",
       "  EntityExpirationDate EntityExpirationReason NextRenewalDate  SuccessorLEI  \\\n",
       "0                  NaN                    NaN         1/13/16           NaN   \n",
       "1                  NaN                    NaN        12/22/15           NaN   \n",
       "2                  NaN                    NaN         3/28/16           NaN   \n",
       "3                  NaN                    NaN         4/16/16           NaN   \n",
       "4                  NaN                    NaN          9/4/15           NaN   \n",
       "\n",
       "                   LegalForm  \n",
       "0               INCORPORATED  \n",
       "1                PARTNERSHIP  \n",
       "2  LIMITED LIABILITY COMPANY  \n",
       "3               INCORPORATED  \n",
       "4               INCORPORATED  \n",
       "\n",
       "[5 rows x 39 columns]"
      ]
     },
     "execution_count": 5,
     "metadata": {},
     "output_type": "execute_result"
    }
   ],
   "source": [
    "df2.head(5)"
   ]
  },
  {
   "cell_type": "markdown",
   "metadata": {},
   "source": [
    "### Read SEC"
   ]
  },
  {
   "cell_type": "code",
   "execution_count": 6,
   "metadata": {},
   "outputs": [],
   "source": [
    "df3 = pd.read_csv('./data/SEC.csv', engine='python')"
   ]
  },
  {
   "cell_type": "code",
   "execution_count": 7,
   "metadata": {},
   "outputs": [
    {
     "data": {
      "text/html": [
       "<div>\n",
       "<style scoped>\n",
       "    .dataframe tbody tr th:only-of-type {\n",
       "        vertical-align: middle;\n",
       "    }\n",
       "\n",
       "    .dataframe tbody tr th {\n",
       "        vertical-align: top;\n",
       "    }\n",
       "\n",
       "    .dataframe thead th {\n",
       "        text-align: right;\n",
       "    }\n",
       "</style>\n",
       "<table border=\"1\" class=\"dataframe\">\n",
       "  <thead>\n",
       "    <tr style=\"text-align: right;\">\n",
       "      <th></th>\n",
       "      <th>CIK</th>\n",
       "      <th>IRS_NUMBER</th>\n",
       "      <th>CONFORMED_NAME</th>\n",
       "      <th>MinOfFILING_DATE</th>\n",
       "      <th>FORMER_CONFORMED_NAME</th>\n",
       "      <th>FORMER_NAME_CHANGED</th>\n",
       "      <th>ASSIGNED_SIC</th>\n",
       "      <th>I_COUNTRY</th>\n",
       "      <th>I_STPR</th>\n",
       "      <th>B_STREET</th>\n",
       "      <th>...</th>\n",
       "      <th>B_POSTAL</th>\n",
       "      <th>B_COUNTRY</th>\n",
       "      <th>B_PHONE</th>\n",
       "      <th>M_STREET</th>\n",
       "      <th>M_STREET1</th>\n",
       "      <th>M_STREET2</th>\n",
       "      <th>M_CITY</th>\n",
       "      <th>M_STPR</th>\n",
       "      <th>M_POSTAL</th>\n",
       "      <th>M_COUNTRY</th>\n",
       "    </tr>\n",
       "  </thead>\n",
       "  <tbody>\n",
       "    <tr>\n",
       "      <th>0</th>\n",
       "      <td>20</td>\n",
       "      <td>221759452.0</td>\n",
       "      <td>K TRON INTERNATIONAL INC</td>\n",
       "      <td>20080722</td>\n",
       "      <td>NaN</td>\n",
       "      <td>NaN</td>\n",
       "      <td>3823.0</td>\n",
       "      <td>US</td>\n",
       "      <td>NJ</td>\n",
       "      <td>ROUTE 55 &amp; 553 BOX 888</td>\n",
       "      <td>...</td>\n",
       "      <td>08071-0888</td>\n",
       "      <td>US</td>\n",
       "      <td>8562563318</td>\n",
       "      <td>ROUTE 55 &amp; 553 P O BOX 888</td>\n",
       "      <td>ROUTE 55 &amp; 553</td>\n",
       "      <td>P O BOX 888</td>\n",
       "      <td>PITMAN</td>\n",
       "      <td>NJ</td>\n",
       "      <td>08071-0888</td>\n",
       "      <td>US</td>\n",
       "    </tr>\n",
       "    <tr>\n",
       "      <th>1</th>\n",
       "      <td>1750</td>\n",
       "      <td>362334820.0</td>\n",
       "      <td>AAR CORP</td>\n",
       "      <td>20080605</td>\n",
       "      <td>ALLEN AIRCRAFT RADIO INC</td>\n",
       "      <td>19700204.0</td>\n",
       "      <td>3720.0</td>\n",
       "      <td>US</td>\n",
       "      <td>DE</td>\n",
       "      <td>1100 N WOOD DALE RD</td>\n",
       "      <td>...</td>\n",
       "      <td>60191</td>\n",
       "      <td>US</td>\n",
       "      <td>6302272000</td>\n",
       "      <td>1100 N WOOD DALE RD</td>\n",
       "      <td>1100 N WOOD DALE RD</td>\n",
       "      <td>NaN</td>\n",
       "      <td>WOOD DALE</td>\n",
       "      <td>IL</td>\n",
       "      <td>60191</td>\n",
       "      <td>US</td>\n",
       "    </tr>\n",
       "    <tr>\n",
       "      <th>2</th>\n",
       "      <td>1800</td>\n",
       "      <td>360698440.0</td>\n",
       "      <td>ABBOTT LABORATORIES</td>\n",
       "      <td>20080703</td>\n",
       "      <td>NaN</td>\n",
       "      <td>NaN</td>\n",
       "      <td>2834.0</td>\n",
       "      <td>US</td>\n",
       "      <td>IL</td>\n",
       "      <td>100 ABBOTT PARK ROAD D-322 AP6D</td>\n",
       "      <td>...</td>\n",
       "      <td>60064-3500</td>\n",
       "      <td>US</td>\n",
       "      <td>8479376100</td>\n",
       "      <td></td>\n",
       "      <td>NaN</td>\n",
       "      <td>NaN</td>\n",
       "      <td>NaN</td>\n",
       "      <td>NaN</td>\n",
       "      <td>NaN</td>\n",
       "      <td>NaN</td>\n",
       "    </tr>\n",
       "    <tr>\n",
       "      <th>3</th>\n",
       "      <td>1841</td>\n",
       "      <td>132833083.0</td>\n",
       "      <td>ABEL/NOSER CORPORATION</td>\n",
       "      <td>20090317</td>\n",
       "      <td>ABEL NOSER CORP                               ...</td>\n",
       "      <td>20000101.0</td>\n",
       "      <td>NaN</td>\n",
       "      <td>US</td>\n",
       "      <td>NY</td>\n",
       "      <td>ONE BATTERY PARK PLAZA 6TH FLOOR</td>\n",
       "      <td>...</td>\n",
       "      <td>10004</td>\n",
       "      <td>US</td>\n",
       "      <td>646-432-4170</td>\n",
       "      <td>ONE BATTERY PARK PLAZA 6TH FLOOR</td>\n",
       "      <td>ONE BATTERY PARK PLAZA</td>\n",
       "      <td>6TH FLOOR</td>\n",
       "      <td>NEW YORK</td>\n",
       "      <td>NY</td>\n",
       "      <td>10004</td>\n",
       "      <td>US</td>\n",
       "    </tr>\n",
       "    <tr>\n",
       "      <th>4</th>\n",
       "      <td>1853</td>\n",
       "      <td>826008492.0</td>\n",
       "      <td>MOTIVNATION, INC.</td>\n",
       "      <td>20080612</td>\n",
       "      <td>ABERDEEN IDAHO MINING CO</td>\n",
       "      <td>20000101.0</td>\n",
       "      <td>3711.0</td>\n",
       "      <td>NaN</td>\n",
       "      <td>NaN</td>\n",
       "      <td>18101 VON KARMAN AVE., SUITE 330</td>\n",
       "      <td>...</td>\n",
       "      <td>92612</td>\n",
       "      <td>US</td>\n",
       "      <td>949-888-8060</td>\n",
       "      <td>18101 VON KARMAN AVE., SUITE 330</td>\n",
       "      <td>18101 VON KARMAN AVE., SUITE 330</td>\n",
       "      <td>NaN</td>\n",
       "      <td>IRVINE</td>\n",
       "      <td>CA</td>\n",
       "      <td>92612</td>\n",
       "      <td>US</td>\n",
       "    </tr>\n",
       "  </tbody>\n",
       "</table>\n",
       "<p>5 rows × 24 columns</p>\n",
       "</div>"
      ],
      "text/plain": [
       "    CIK   IRS_NUMBER            CONFORMED_NAME  MinOfFILING_DATE  \\\n",
       "0    20  221759452.0  K TRON INTERNATIONAL INC          20080722   \n",
       "1  1750  362334820.0                  AAR CORP          20080605   \n",
       "2  1800  360698440.0       ABBOTT LABORATORIES          20080703   \n",
       "3  1841  132833083.0    ABEL/NOSER CORPORATION          20090317   \n",
       "4  1853  826008492.0         MOTIVNATION, INC.          20080612   \n",
       "\n",
       "                               FORMER_CONFORMED_NAME  FORMER_NAME_CHANGED  \\\n",
       "0                                                NaN                  NaN   \n",
       "1                           ALLEN AIRCRAFT RADIO INC           19700204.0   \n",
       "2                                                NaN                  NaN   \n",
       "3  ABEL NOSER CORP                               ...           20000101.0   \n",
       "4                           ABERDEEN IDAHO MINING CO           20000101.0   \n",
       "\n",
       "   ASSIGNED_SIC I_COUNTRY I_STPR                           B_STREET  ...  \\\n",
       "0        3823.0        US     NJ             ROUTE 55 & 553 BOX 888  ...   \n",
       "1        3720.0        US     DE               1100 N WOOD DALE RD   ...   \n",
       "2        2834.0        US     IL    100 ABBOTT PARK ROAD D-322 AP6D  ...   \n",
       "3           NaN        US     NY   ONE BATTERY PARK PLAZA 6TH FLOOR  ...   \n",
       "4        3711.0       NaN    NaN  18101 VON KARMAN AVE., SUITE 330   ...   \n",
       "\n",
       "     B_POSTAL B_COUNTRY       B_PHONE                           M_STREET  \\\n",
       "0  08071-0888        US    8562563318         ROUTE 55 & 553 P O BOX 888   \n",
       "1       60191        US    6302272000               1100 N WOOD DALE RD    \n",
       "2  60064-3500        US    8479376100                                      \n",
       "3       10004        US  646-432-4170   ONE BATTERY PARK PLAZA 6TH FLOOR   \n",
       "4       92612        US  949-888-8060  18101 VON KARMAN AVE., SUITE 330    \n",
       "\n",
       "                          M_STREET1    M_STREET2     M_CITY M_STPR  \\\n",
       "0                    ROUTE 55 & 553  P O BOX 888     PITMAN     NJ   \n",
       "1               1100 N WOOD DALE RD          NaN  WOOD DALE     IL   \n",
       "2                               NaN          NaN        NaN    NaN   \n",
       "3            ONE BATTERY PARK PLAZA    6TH FLOOR   NEW YORK     NY   \n",
       "4  18101 VON KARMAN AVE., SUITE 330          NaN     IRVINE     CA   \n",
       "\n",
       "     M_POSTAL M_COUNTRY  \n",
       "0  08071-0888        US  \n",
       "1       60191        US  \n",
       "2         NaN       NaN  \n",
       "3       10004        US  \n",
       "4       92612        US  \n",
       "\n",
       "[5 rows x 24 columns]"
      ]
     },
     "execution_count": 7,
     "metadata": {},
     "output_type": "execute_result"
    }
   ],
   "source": [
    "df3.head(5)"
   ]
  },
  {
   "cell_type": "markdown",
   "metadata": {},
   "source": [
    "### Read ground truths"
   ]
  },
  {
   "cell_type": "markdown",
   "metadata": {},
   "source": [
    "#### FFIEC ⭢ LEI"
   ]
  },
  {
   "cell_type": "code",
   "execution_count": 8,
   "metadata": {},
   "outputs": [],
   "source": [
    "FFIEC_LEI_gt = pd.read_csv('./data/FFIEC-LEI-GroundTruth.csv', sep='\\t')\n",
    "FFIEC_LEI_gt = FFIEC_LEI_gt.set_index(['FFIEC_ID','LEI_ID'])"
   ]
  },
  {
   "cell_type": "code",
   "execution_count": 9,
   "metadata": {},
   "outputs": [
    {
     "data": {
      "text/html": [
       "<div>\n",
       "<style scoped>\n",
       "    .dataframe tbody tr th:only-of-type {\n",
       "        vertical-align: middle;\n",
       "    }\n",
       "\n",
       "    .dataframe tbody tr th {\n",
       "        vertical-align: top;\n",
       "    }\n",
       "\n",
       "    .dataframe thead th {\n",
       "        text-align: right;\n",
       "    }\n",
       "</style>\n",
       "<table border=\"1\" class=\"dataframe\">\n",
       "  <thead>\n",
       "    <tr style=\"text-align: right;\">\n",
       "      <th></th>\n",
       "      <th></th>\n",
       "      <th>TYPE</th>\n",
       "    </tr>\n",
       "    <tr>\n",
       "      <th>FFIEC_ID</th>\n",
       "      <th>LEI_ID</th>\n",
       "      <th></th>\n",
       "    </tr>\n",
       "  </thead>\n",
       "  <tbody>\n",
       "    <tr>\n",
       "      <th>68756</th>\n",
       "      <th>549300465MKS092D5K02</th>\n",
       "      <td>TP</td>\n",
       "    </tr>\n",
       "    <tr>\n",
       "      <th>63069</th>\n",
       "      <th>593C3GZG957YOJPS2Z63</th>\n",
       "      <td>TP</td>\n",
       "    </tr>\n",
       "    <tr>\n",
       "      <th>3560783</th>\n",
       "      <th>549300KIB2BK64XF5262</th>\n",
       "      <td>TP</td>\n",
       "    </tr>\n",
       "    <tr>\n",
       "      <th>1356768</th>\n",
       "      <th>5493008ZK5SW6NTWB533</th>\n",
       "      <td>TP</td>\n",
       "    </tr>\n",
       "    <tr>\n",
       "      <th>3470985</th>\n",
       "      <th>549300DCFF8W6ZAEKH70</th>\n",
       "      <td>TP</td>\n",
       "    </tr>\n",
       "  </tbody>\n",
       "</table>\n",
       "</div>"
      ],
      "text/plain": [
       "                              TYPE\n",
       "FFIEC_ID LEI_ID                   \n",
       "68756    549300465MKS092D5K02   TP\n",
       "63069    593C3GZG957YOJPS2Z63   TP\n",
       "3560783  549300KIB2BK64XF5262   TP\n",
       "1356768  5493008ZK5SW6NTWB533   TP\n",
       "3470985  549300DCFF8W6ZAEKH70   TP"
      ]
     },
     "execution_count": 9,
     "metadata": {},
     "output_type": "execute_result"
    }
   ],
   "source": [
    "FFIEC_LEI_gt.head(5)"
   ]
  },
  {
   "cell_type": "markdown",
   "metadata": {},
   "source": [
    "#### FFIEC ⭢ SEC"
   ]
  },
  {
   "cell_type": "code",
   "execution_count": 10,
   "metadata": {},
   "outputs": [],
   "source": [
    "FFIEC_SEC_gt = pd.read_csv('./data/FFIEC-SEC-GroundTruth.csv', sep='\\t')\n",
    "FFIEC_SEC_gt = FFIEC_SEC_gt.set_index(['FFIEC_ID','SEC_ID'])"
   ]
  },
  {
   "cell_type": "code",
   "execution_count": 11,
   "metadata": {},
   "outputs": [
    {
     "data": {
      "text/html": [
       "<div>\n",
       "<style scoped>\n",
       "    .dataframe tbody tr th:only-of-type {\n",
       "        vertical-align: middle;\n",
       "    }\n",
       "\n",
       "    .dataframe tbody tr th {\n",
       "        vertical-align: top;\n",
       "    }\n",
       "\n",
       "    .dataframe thead th {\n",
       "        text-align: right;\n",
       "    }\n",
       "</style>\n",
       "<table border=\"1\" class=\"dataframe\">\n",
       "  <thead>\n",
       "    <tr style=\"text-align: right;\">\n",
       "      <th></th>\n",
       "      <th></th>\n",
       "      <th>TYPE</th>\n",
       "    </tr>\n",
       "    <tr>\n",
       "      <th>FFIEC_ID</th>\n",
       "      <th>SEC_ID</th>\n",
       "      <th></th>\n",
       "    </tr>\n",
       "  </thead>\n",
       "  <tbody>\n",
       "    <tr>\n",
       "      <th>436711</th>\n",
       "      <th>1430521</th>\n",
       "      <td>TP</td>\n",
       "    </tr>\n",
       "    <tr>\n",
       "      <th>618740</th>\n",
       "      <th>1594492</th>\n",
       "      <td>TP</td>\n",
       "    </tr>\n",
       "    <tr>\n",
       "      <th>63069</th>\n",
       "      <th>275216</th>\n",
       "      <td>TP</td>\n",
       "    </tr>\n",
       "    <tr>\n",
       "      <th>3348888</th>\n",
       "      <th>1552682</th>\n",
       "      <td>TP</td>\n",
       "    </tr>\n",
       "    <tr>\n",
       "      <th>895710</th>\n",
       "      <th>1520684</th>\n",
       "      <td>TP</td>\n",
       "    </tr>\n",
       "  </tbody>\n",
       "</table>\n",
       "</div>"
      ],
      "text/plain": [
       "                 TYPE\n",
       "FFIEC_ID SEC_ID      \n",
       "436711   1430521   TP\n",
       "618740   1594492   TP\n",
       "63069    275216    TP\n",
       "3348888  1552682   TP\n",
       "895710   1520684   TP"
      ]
     },
     "execution_count": 11,
     "metadata": {},
     "output_type": "execute_result"
    }
   ],
   "source": [
    "FFIEC_SEC_gt.head(5)"
   ]
  },
  {
   "cell_type": "markdown",
   "metadata": {},
   "source": [
    "## Preprocessing"
   ]
  },
  {
   "cell_type": "markdown",
   "metadata": {},
   "source": [
    "Here we define all the function needed for the preprocessing phase: cleaning data, normalization and other operations."
   ]
  },
  {
   "cell_type": "markdown",
   "metadata": {},
   "source": [
    "By analyzing our data we found:\n",
    "\n",
    "- inconsistent addresses information. <br> e.g: SEC contains, in the same address attribute, information about the P.O. BOX addresses which is not present in other datasets. <br> e.g: normalization of words for example st ⭢ street\n",
    "\n",
    "\n",
    "- zipcodes length not uniform.\n",
    "\n",
    "\n",
    "- There is implicit semantic knowledge included in a name, e.g., a name may contain “National Association” or “State Bank of” in its name. This complicates matching based on a similarity score.\n",
    "\n",
    "\n",
    "- Stopwords and punctuation differ between the same abbreviations or words."
   ]
  },
  {
   "cell_type": "markdown",
   "metadata": {},
   "source": [
    "### Utils functions"
   ]
  },
  {
   "cell_type": "code",
   "execution_count": 12,
   "metadata": {},
   "outputs": [],
   "source": [
    "def normalizeAddress(sentence):\n",
    "    # normalize road types\n",
    "    for key in road_types:\n",
    "        sentence = re.sub(r\"\\s*\\b\"+re.escape(key)+r\"\\b\\s*\", ' '+road_types[key]+' ', sentence)\n",
    "    # normalize road orientations\n",
    "    for key in road_orientations:\n",
    "        sentence = re.sub(r\"\\s*\\b\"+re.escape(key)+r\"\\b\\s*\", ' '+road_orientations[key]+' ', sentence)\n",
    "    sentence = re.sub(r\"\\s*\\bpo box \\d{0,}\\b\\s*\",' ', sentence)\n",
    "    sentence = re.sub(r\"\\s*\\bbox \\d{0,}\\b\\s*\",' ', sentence)\n",
    "    sentence = sentence.strip()\n",
    "    return sentence\n",
    "\n",
    "def normalizeZipCode(zip_code):\n",
    "    if zip_code == 'NaN':\n",
    "        return zip_code\n",
    "    # takes first \"5\" digits\n",
    "    zip_code = zip_code.split('-')[0]\n",
    "\n",
    "    # adding initial zeros to partial zip codes\n",
    "    zeros = 5 - len(zip_code)\n",
    "    while zeros > 0:\n",
    "        zip_code = '0' + zip_code\n",
    "        zeros -= 1\n",
    "    return zip_code\n",
    "        \n",
    "\n",
    "def normalizeNameModifier(sentence):\n",
    "    modifier = None\n",
    "    for key in name_modifiers:\n",
    "        if re.search(r\"\\b\"+re.escape(key)+r\"\\b\", sentence):\n",
    "            modifier = name_modifiers[key]\n",
    "            sentence = re.sub(r\"\\s*\\b\"+re.escape(key)+r\"\\b\\s*\",' ', sentence)\n",
    "\n",
    "    for key in name_modifiers:\n",
    "        if re.search(r\"\\b\"+re.escape(name_modifiers[key])+r\"\\b\", sentence):\n",
    "            modifier = name_modifiers[key]\n",
    "            sentence = re.sub(r\"\\s*\\b\"+re.escape(name_modifiers[key])+r\"\\b\\s*\",' ', sentence)\n",
    "    sentence = re.sub('\\s+',' ',sentence).strip()\n",
    "    return sentence, modifier\n",
    "\n",
    "def removeStopWords(sentence):\n",
    "    tokens = nltk.tokenize.word_tokenize(sentence)\n",
    "    tokens = [word for word in tokens if word not in stop_words]\n",
    "    ret = ' '.join(tokens)\n",
    "    return ret\n",
    "\n",
    "def flatten(listoflists):\n",
    "    return [item for list in listoflists for item in list]\n",
    "\n",
    "def mostCommonWords(names):\n",
    "    tokens = names.apply(nltk.tokenize.word_tokenize)\n",
    "    tokens = tokens.apply(lambda x: [word for word in x if word not in stop_words])\n",
    "    ugs = Counter(flatten(tokens.apply(lambda x : list(nltk.ngrams(x, 1)))))\n",
    "    bgs = Counter(flatten(tokens.apply(lambda x : list(nltk.ngrams(x, 2)))))\n",
    "    tgs = Counter(flatten(tokens.apply(lambda x : list(nltk.ngrams(x, 3)))))\n",
    "    return ugs, bgs, tgs\n",
    "\n",
    "# stop words list\n",
    "stop_words = nltk.corpus.stopwords.words('english')\n",
    "\n",
    "# name modifiers dictionary\n",
    "name_modifiers = {'corp': 'corporation', 'co': 'company', 'fsb': 'federal savings bank',\n",
    "                  'na': 'national association', 'inc': 'incorporated', 'ta': 'trust association'}\n",
    "\n",
    "# orientation dictionary\n",
    "road_orientations = {'north': 'n', 'south': 's', 'east': 'e', 'west': 'w', \n",
    "                'northeast': 'ne', 'northwest': 'nw', 'southeast': 'se', 'southwest': 'sw'}\n",
    "\n",
    "# road types dictionary\n",
    "road_types = {'street': 'st', 'road': 'rd', 'avenue': 'ave', 'square': 'sq',\n",
    "              'lane': 'la', 'suite': 'su', 'plaza': 'pl' }"
   ]
  },
  {
   "cell_type": "markdown",
   "metadata": {},
   "source": [
    "### Cleaning functions"
   ]
  },
  {
   "cell_type": "markdown",
   "metadata": {},
   "source": [
    "Here we defined cleaning functions which use the previously defined preprocessing functions for an easier utilization later on."
   ]
  },
  {
   "cell_type": "markdown",
   "metadata": {},
   "source": [
    "#### FFIEC"
   ]
  },
  {
   "cell_type": "code",
   "execution_count": 13,
   "metadata": {},
   "outputs": [
    {
     "name": "stdout",
     "output_type": "stream",
     "text": [
      "FFIEC:\n",
      "399357     1\n",
      "17978      1\n",
      "448040     1\n",
      "640554     1\n",
      "3482166    1\n",
      "          ..\n",
      "375650     1\n",
      "734051     1\n",
      "28406      1\n",
      "533124     1\n",
      "3045383    1\n",
      "Name: IDRSSD, Length: 6652, dtype: int64\n",
      "\n",
      "No removes needed...\n"
     ]
    }
   ],
   "source": [
    "# verify IDs uniqueness\n",
    "print('FFIEC:')\n",
    "print(df1['IDRSSD'].value_counts())\n",
    "print('\\nNo removes needed...')"
   ]
  },
  {
   "cell_type": "code",
   "execution_count": 14,
   "metadata": {},
   "outputs": [],
   "source": [
    "def preprocessFFIEC(df, name=True, stopwords=True, modifier=True, address=True):\n",
    "    # filter out unwanted columns from dataframe\n",
    "    df = pd.DataFrame(df[['IDRSSD', 'Financial Institution Name Cleaned', \\\n",
    "                          'Financial Institution Address', 'Financial Institution City', \\\n",
    "                          'Financial Institution State', 'Financial Institution Zip Code 5']])\n",
    "    # set id index \n",
    "    df = df.set_index('IDRSSD')\n",
    "    # clean Name\n",
    "    if name:\n",
    "        df['Financial Institution Name Cleaned'] = df['Financial Institution Name Cleaned'].str.replace('&', ' and ')\n",
    "        df['Financial Institution Name Cleaned'] = clean(df['Financial Institution Name Cleaned'])\n",
    "        # remove stopwords\n",
    "        if stopwords:\n",
    "            df['Financial Institution Name Cleaned'] = df['Financial Institution Name Cleaned'].apply(removeStopWords)\n",
    "        # remove name modifier\n",
    "        if modifier:\n",
    "            df[['Financial Institution Name Cleaned', 'MODIFIER']] = df.apply(lambda x: pd.Series(normalizeNameModifier(x['Financial Institution Name Cleaned'])), axis=1)\n",
    "    # clean address\n",
    "    if address:\n",
    "        df['Financial Institution Address'] = clean(df['Financial Institution Address']).apply(normalizeAddress)\n",
    "    # clean city\n",
    "    df['Financial Institution City'] = clean(df['Financial Institution City'])\n",
    "    # clean postal code\n",
    "    df['Financial Institution Zip Code 5'] = df['Financial Institution Zip Code 5'].astype(str).apply(normalizeZipCode)\n",
    "    return df"
   ]
  },
  {
   "cell_type": "markdown",
   "metadata": {},
   "source": [
    "#### LEI"
   ]
  },
  {
   "cell_type": "code",
   "execution_count": 15,
   "metadata": {},
   "outputs": [
    {
     "name": "stdout",
     "output_type": "stream",
     "text": [
      "LEI:\n",
      "9.598E+19               9\n",
      "549300DT8SH0CF6BTT37    1\n",
      "5493007KJQJ3YKET6L74    1\n",
      "6M5VVHP54K5BPR2GI852    1\n",
      "549300CW9L0BVQY20W81    1\n",
      "                       ..\n",
      "54930005O0Z1ZPIEB793    1\n",
      "549300MG78OMJG7UHF07    1\n",
      "549300EZHHTTDNQF5G02    1\n",
      "549300TS75MG79QT5F80    1\n",
      "549300SBN40YH05GIW70    1\n",
      "Name: LEI, Length: 53950, dtype: int64\n",
      "\n",
      " Need to remove record with LEI = 9.598E+19\n"
     ]
    }
   ],
   "source": [
    "print('LEI:')\n",
    "print(df2['LEI'].value_counts())\n",
    "print('\\n Need to remove record with LEI =', '9.598E+19' )"
   ]
  },
  {
   "cell_type": "code",
   "execution_count": 16,
   "metadata": {},
   "outputs": [],
   "source": [
    "def preprocessLEI(df, name=True, stopwords=True, modifier=True, address=True):\n",
    "    # filter out unwanted columns from dataframe\n",
    "    df = pd.DataFrame(df[['LEI', 'LegalNameCleaned', 'LegalAddress_Line_Cleaned', \\\n",
    "                        'LegalAddress_City', 'LegalAddress_Region_2', 'LegalAddress_Country', 'LegalAddress_PostalCode_5']])\n",
    "    \n",
    "    # set id as index\n",
    "    df = df.set_index('LEI')\n",
    "    \n",
    "    # remove invalid records\n",
    "    df = pd.DataFrame(df.drop('9.598E+19'))\n",
    "    \n",
    "    # clean Name\n",
    "    if name:\n",
    "        df['LegalNameCleaned'] = df['LegalNameCleaned'].str.replace('&', ' and ')\n",
    "        df['LegalNameCleaned'] = clean(df['LegalNameCleaned'])\n",
    "        # remove stopwords\n",
    "        if stopwords:\n",
    "            df['LegalNameCleaned'] = df['LegalNameCleaned'].apply(removeStopWords) \n",
    "        # remove name modifier\n",
    "        if modifier:\n",
    "            df[['LegalNameCleaned', 'MODIFIER']] = df.apply(lambda x: pd.Series(normalizeNameModifier(x['LegalNameCleaned'])), axis=1)\n",
    "    # clean address\n",
    "    if address:\n",
    "        df['LegalAddress_Line_Cleaned'] = clean(df['LegalAddress_Line_Cleaned']).apply(normalizeAddress)\n",
    "    # clean city\n",
    "    df['LegalAddress_City'] = clean(df['LegalAddress_City'])\n",
    "    # clean postal code\n",
    "    df['LegalAddress_PostalCode_5'] = df['LegalAddress_PostalCode_5'].apply(lambda x : str(int(x) if str(x) != 'nan' else x))\\\n",
    "                                                                     .apply(normalizeZipCode)\n",
    "    return df"
   ]
  },
  {
   "cell_type": "markdown",
   "metadata": {},
   "source": [
    "#### SEC"
   ]
  },
  {
   "cell_type": "code",
   "execution_count": 17,
   "metadata": {},
   "outputs": [
    {
     "name": "stdout",
     "output_type": "stream",
     "text": [
      "SEC:\n",
      "790526     1\n",
      "1596732    1\n",
      "1501174    1\n",
      "1133076    1\n",
      "1482745    1\n",
      "          ..\n",
      "1625266    1\n",
      "215740     1\n",
      "1524413    1\n",
      "744126     1\n",
      "1312769    1\n",
      "Name: CIK, Length: 129312, dtype: int64\n",
      "\n",
      "No removes needed...\n"
     ]
    }
   ],
   "source": [
    "# verify IDs uniqueness\n",
    "print('SEC:')\n",
    "print(df3['CIK'].value_counts())\n",
    "print('\\nNo removes needed...')"
   ]
  },
  {
   "cell_type": "code",
   "execution_count": 18,
   "metadata": {},
   "outputs": [],
   "source": [
    "def preprocessSEC(df, name=True, stopwords=True, modifier=True, address=True):\n",
    "    # filter out unwanted columns from dataframe\n",
    "    df = pd.DataFrame(df[['CIK', 'CONFORMED_NAME', 'B_STREET', \\\n",
    "                        'B_CITY', 'B_STPR', 'B_POSTAL']])\n",
    "    # set id as index\n",
    "    df = df.set_index('CIK')\n",
    "    # clean Name\n",
    "    if name:\n",
    "        df['CONFORMED_NAME'] = df['CONFORMED_NAME'].str.replace('&', ' and ')\n",
    "        df['CONFORMED_NAME'] = clean(df['CONFORMED_NAME'])\n",
    "        # remove stopwords\n",
    "        if stopwords:\n",
    "            df['CONFORMED_NAME'] = df['CONFORMED_NAME'].apply(removeStopWords)\n",
    "        # remove name modifier\n",
    "        if modifier:\n",
    "            df[['CONFORMED_NAME', 'MODIFIER']] = df.apply(lambda x: pd.Series(normalizeNameModifier(x['CONFORMED_NAME'])), axis=1)\n",
    "    # clean address\n",
    "    if address:\n",
    "        # TODO: define clean address\n",
    "        df['B_STREET'] = clean(df['B_STREET']).apply(normalizeAddress)\n",
    "    # clean city\n",
    "    df['B_CITY'] = clean(df['B_CITY'])\n",
    "    # clean postal code\n",
    "    df['B_POSTAL'] = df['B_POSTAL'].astype(str).apply(normalizeZipCode)\n",
    "    return df"
   ]
  },
  {
   "cell_type": "markdown",
   "metadata": {},
   "source": [
    "#### preprocessAll"
   ]
  },
  {
   "cell_type": "code",
   "execution_count": 19,
   "metadata": {},
   "outputs": [],
   "source": [
    "def preprocessAll(df_FFIEC, df_LEI, df_SEC, name=True, stopwords=True, modifier=True, address=True):\n",
    "    df_FFIEC = preprocessFFIEC(df_FFIEC, name, stopwords, modifier, address)\n",
    "    df_LEI = preprocessLEI(df_LEI, name, stopwords, modifier, address)\n",
    "    df_SEC = preprocessSEC(df_SEC, name, stopwords, modifier, address)\n",
    "    return df_FFIEC, df_LEI, df_SEC"
   ]
  },
  {
   "cell_type": "markdown",
   "metadata": {},
   "source": [
    "## Blocking"
   ]
  },
  {
   "cell_type": "markdown",
   "metadata": {},
   "source": [
    "Here we define functions which make use of the __Python Record Linkage Toolkit__ to implement different blocking strategies. A blocking strategy is used to create and limit the number of record pairs which needs to be compared later on to indentify the matching ones. We considered:\n",
    "\n",
    "- Full Indexing: no blocking strategy is applied. A full index is an index with all possible combinations of record pairs. Returns the cartesian products of the records from each dataset. This is usually not the best choice in terms of performance.\n",
    "\n",
    "\n",
    "<img src=\"./report/images/full_indexing.png\">"
   ]
  },
  {
   "cell_type": "markdown",
   "metadata": {},
   "source": [
    "- Exact Blocking: returns all record pairs that agree on the given variable(s)."
   ]
  },
  {
   "cell_type": "markdown",
   "metadata": {},
   "source": [
    "- Sorted Neighbourhood Blocking: sorts records based on a sorting key and moves a window of size _n_ over the sorted records. Records within the window are paired with each other to form the candidate record pair list. The Sorted Neighbourhood Blocking method is a great method when there is relatively large amount of spelling mistakes."
   ]
  },
  {
   "cell_type": "markdown",
   "metadata": {},
   "source": [
    "### Functions definitions"
   ]
  },
  {
   "cell_type": "code",
   "execution_count": 20,
   "metadata": {},
   "outputs": [],
   "source": [
    "# full indexing, computationally expensive\n",
    "def fullIndexing(df_A, df_B):\n",
    "    start_time = time.time()\n",
    "    indexer = recordlinkage.Index()\n",
    "    indexer.full()\n",
    "    candidate_links = indexer.index(df_A, df_B)\n",
    "    print(\"Execution time: %s seconds \" % (time.time() - start_time))\n",
    "    return candidate_links\n",
    "\n",
    "# exact blocking\n",
    "def exactBlocking(df_A, df_B, column_A, column_B):\n",
    "    start_time = time.time()\n",
    "    indexer = recordlinkage.Index()\n",
    "    indexer.block(left_on=[column_A], right_on=[column_B])\n",
    "    candidate_links = indexer.index(df_A, df_B)\n",
    "    print(\"Execution time: %s seconds \" % (time.time() - start_time))\n",
    "    return candidate_links\n",
    "\n",
    "# sorted neighbourhood indexing\n",
    "def sortedNeighbourhoodIndexing(df_A, df_B, column_A, column_B, window=3):\n",
    "    start_time = time.time()\n",
    "    indexer = recordlinkage.Index()\n",
    "    indexer = recordlinkage.SortedNeighbourhoodIndex(\n",
    "            left_on=column_A, right_on=column_B, window=window\n",
    "        )\n",
    "    candidate_links = indexer.index(df_A, df_B)\n",
    "    print(\"Execution time: %s seconds \" % (time.time() - start_time))\n",
    "    return candidate_links"
   ]
  },
  {
   "cell_type": "markdown",
   "metadata": {},
   "source": [
    "## Comparison"
   ]
  },
  {
   "cell_type": "markdown",
   "metadata": {},
   "source": [
    "Here we define the compare function which makes use of the __Python Record Linkage Toolkit__."
   ]
  },
  {
   "cell_type": "markdown",
   "metadata": {},
   "source": [
    "It's possibile to define how attributes are compared with each other:\n",
    "\n",
    "- Exact matching: the similarity is 1 in case of agreement and 0 otherwise.\n",
    "\n",
    "\n",
    "- String matching: different similarity algorithms are available __jaro__, __jarowinkler__, __levenshtein__, __damerau_levenshtein__, __qgram__ or __cosine__. In case of agreement, the similarity is 1 and in case of complete disagreement it is 0.\n",
    "\n",
    "Other matching methods are available but our function doesn't implement those because are not needed for our datasets.\n",
    "\n",
    "- Numeric matching\n",
    "- Geographic matching\n",
    "- Data matching"
   ]
  },
  {
   "cell_type": "markdown",
   "metadata": {},
   "source": [
    "### Functions definitions"
   ]
  },
  {
   "cell_type": "code",
   "execution_count": 21,
   "metadata": {},
   "outputs": [],
   "source": [
    "# str_comp = {'method': [{'col_names': ['col_A', 'col_B'], 'threshold': n}, {'col_names': ['col_A', 'col_B'], 'threshold': n}]}\n",
    "# exact_comp = [{'col_names': ['col_A', 'col_B']}]\n",
    "\n",
    "def compareRecords(df_A, df_B, candidate_links, str_comp, exact_comp):\n",
    "    comp = recordlinkage.Compare()\n",
    "    \n",
    "    for method in str_comp:\n",
    "        for columns in str_comp[method]:\n",
    "            col_A = columns['col_names'][0]\n",
    "            col_B = columns['col_names'][1]\n",
    "            if 'threshold' in columns:\n",
    "                threshold = columns['threshold']\n",
    "                comp.add(String(col_A, col_B,\n",
    "                                    method = method,\n",
    "                                    threshold = threshold,\n",
    "                                    label = col_A))\n",
    "            else:\n",
    "                comp.add(String(col_A, col_B,\n",
    "                                    method = method,\n",
    "                                    label = col_A))\n",
    "    \n",
    "    for columns in exact_comp:\n",
    "            col_A = columns['col_names'][0]\n",
    "            col_B = columns['col_names'][1]\n",
    "            comp.add(Exact(col_A, col_B, label = col_A))\n",
    "    start_time = time.time()\n",
    "    features = comp.compute(candidate_links, df_A, df_B)\n",
    "    print(\"Execution time: %s seconds \" % (time.time() - start_time))\n",
    "    return features"
   ]
  },
  {
   "cell_type": "markdown",
   "metadata": {},
   "source": [
    "## Classification"
   ]
  },
  {
   "cell_type": "markdown",
   "metadata": {},
   "source": [
    "Here we define functions to determine which records are Matching Records and which are not."
   ]
  },
  {
   "cell_type": "markdown",
   "metadata": {},
   "source": [
    "We considered different approaches:\n",
    "\n",
    "- Deterministic: a matching record is one that agrees on at least a certain amount of attributes according to the comparing rules we previously defined.\n",
    "\n",
    "\n",
    "- Unsupervised Machine Learning: we used k-means and ECM (Expectation/Conditional Maximisation) models for an unsupervised ML approach. Unsupervised learning is a good approach for record linkage when data isn't labeled since it doesn't need a training set. Our ground truth is partial and as we'll see later on it isn't really reliable.\n",
    "\n",
    "\n",
    "- Supervised Machine Learning: we used a Random Forest classifier to try and make use of the ground truth available as a training set for this approach. We also used a stratified 10-fold cross validation to evaluate the performance because of the small dataset available as training."
   ]
  },
  {
   "cell_type": "markdown",
   "metadata": {},
   "source": [
    "### Functions definitions"
   ]
  },
  {
   "cell_type": "code",
   "execution_count": 22,
   "metadata": {},
   "outputs": [],
   "source": [
    "def getDeterministicMatches(features, threshold=0):\n",
    "    if threshold == 0:\n",
    "        n_columns = len(features.columns)\n",
    "        if n_columns % 2 == 0:\n",
    "            threshold = n_columns / 2 + 1\n",
    "        else:\n",
    "            threshold = math.ceil(n_columns / 2) \n",
    "    links_pred = features[features.sum(axis=1) >= threshold]\n",
    "    return links_pred\n",
    "\n",
    "def getMachineLearningMatches(method, features):\n",
    "    classifier = None\n",
    "    if method == 'kmeans':\n",
    "        classifier = recordlinkage.KMeansClassifier()\n",
    "    elif method == 'ECM':\n",
    "        classifier = recordlinkage.KMeansClassifier()\n",
    "    else:\n",
    "        print('Invalid classifier')\n",
    "        return\n",
    "    links_pred = classifier.fit_predict(features)\n",
    "    return links_pred\n",
    "\n",
    "def balanceFFIEC_SEC(df, features):\n",
    "    links_found = df[df.index.isin(features.index)]\n",
    "    np.random.seed(10)\n",
    "    sampled_TN = links_found[links_found.TYPE=='TN'].sample(120)\n",
    "    np.random.seed(10)\n",
    "    sampled_TP = links_found[links_found.TYPE=='TP'].sample(120)\n",
    "    balanced_df = pd.concat([sampled_TN, sampled_TP, links_found[links_found['TYPE'] == 'Ambiguous']])\n",
    "    return balanced_df\n",
    "\n",
    "def convertTargetToNumber(target_str):\n",
    "    if target_str == 'TN':\n",
    "        return 0\n",
    "    if target_str == 'TP':\n",
    "        return 1\n",
    "    if target_str == 'Ambiguous':\n",
    "        return 2\n",
    "    \n",
    "def preprocessForSupervised(features, ground_truth):\n",
    "    fig, axs = plt.subplots(1,2)\n",
    "    ground_truth['TYPE'].value_counts().plot(kind='bar', title='Target - original', ax=axs[0])\n",
    "    ground_truth_balanced = balanceFFIEC_SEC(ground_truth, features)\n",
    "    ground_truth_balanced['TYPE'].value_counts().plot(kind='bar', title= 'Target - sampled', ax=axs[1])\n",
    "    features_subset = features[features.index.isin(ground_truth_balanced.index)]\n",
    "    features_subset = features_subset.merge(ground_truth_balanced, \n",
    "                      left_on=features_subset.index.values, \n",
    "                      right_on=ground_truth_balanced.index.values)\n",
    "    features_subset = features_subset.set_index('key_0')\n",
    "    features_subset.index = pd.MultiIndex.from_tuples(features_subset.index, names=['FFIEC_ID', 'SEC_ID'])\n",
    "    features_subset['TYPE'] = features_subset['TYPE'].apply(convertTargetToNumber)\n",
    "    return features_subset"
   ]
  },
  {
   "cell_type": "markdown",
   "metadata": {},
   "source": [
    "## Evaluation"
   ]
  },
  {
   "cell_type": "markdown",
   "metadata": {},
   "source": [
    "In this section we define functions to evalute our results."
   ]
  },
  {
   "cell_type": "markdown",
   "metadata": {},
   "source": [
    "If a ground truth is available we report a __Confusion Matrix__ and the performance measure of __Precision__, __Recall__ and __F-Score__.\n",
    "\n",
    "<img style=\"width: 400px\" src=\"./report/images/precision_recall.png\">"
   ]
  },
  {
   "cell_type": "markdown",
   "metadata": {},
   "source": [
    "We also define functions which help us identify which records we misclassified as matching (__False positive__) or which we identified as not matching but they were instead matching (__False negative__) all relying on the availability of a ground truth."
   ]
  },
  {
   "cell_type": "markdown",
   "metadata": {},
   "source": [
    "### Functions definitions"
   ]
  },
  {
   "cell_type": "code",
   "execution_count": 23,
   "metadata": {},
   "outputs": [],
   "source": [
    "# get confusion matrix\n",
    "def getConfusionMatrix(ground_truth, links_pred):\n",
    "    return recordlinkage.confusion_matrix(ground_truth[ground_truth.TYPE == 'TP'].index, links_pred)\n",
    "\n",
    "# get precision measure\n",
    "def getPrecision(ground_truth, links_pred):\n",
    "    return recordlinkage.precision(ground_truth[ground_truth.TYPE == 'TP'].index, links_pred)\n",
    "\n",
    "# get recall measure\n",
    "def getRecall(ground_truth, links_pred):\n",
    "    return recordlinkage.recall(ground_truth[ground_truth.TYPE == 'TP'].index, links_pred)\n",
    "\n",
    "# get precision measure\n",
    "def getFScore(ground_truth, links_pred):\n",
    "    return recordlinkage.fscore(ground_truth[ground_truth.TYPE == 'TP'].index, links_pred)\n",
    "\n",
    "# get all performance measures\n",
    "def getPerformance(ground_truth, links_pred):\n",
    "    conf_matrix = getConfusionMatrix(ground_truth, links_pred)\n",
    "    precision = getPrecision(ground_truth, links_pred)\n",
    "    recall = getRecall(ground_truth, links_pred)\n",
    "    fscore = getFScore(ground_truth, links_pred)\n",
    "    return conf_matrix, precision, recall, fscore\n",
    "\n",
    "# get false positives\n",
    "def getFalsePositives(ground_truth, links_pred):\n",
    "    false_positive_links_gt = list(set(list(links_pred.index.values)) & set(list(ground_truth[ground_truth.TYPE != 'TP'].index.values)))\n",
    "    false_positive_links_gt = pd.DataFrame(ground_truth.loc[ground_truth.index.isin(false_positive_links_gt)])\n",
    "    false_positive_links_ngt = links_pred[~links_pred.index.isin(ground_truth.index.values)]\n",
    "    false_positive_links = pd.concat([false_positive_links_gt, false_positive_links_ngt])\n",
    "    false_positive_links = pd.DataFrame(false_positive_links['TYPE'])\n",
    "    return false_positive_links\n",
    "\n",
    "# get false negatives. It includes FN generated by our comparison and those excluded from our blocking strategy\n",
    "def getFalseNegatives(ground_truth, links_pred, candidate_links):\n",
    "    false_negatives_links_gt = pd.DataFrame(ground_truth.loc[~ground_truth.index.isin(links_pred.index.values)])\n",
    "    false_negatives_links_gt = false_negatives_links_gt.loc[false_negatives_links_gt.TYPE == 'TP']\n",
    "    false_negatives_links_gt['CAUSE'] = 'compare'\n",
    "    false_negatives_links_bl = pd.DataFrame(ground_truth.loc[~ground_truth.index.isin(candidate_links)])\n",
    "    false_negatives_links_bl = false_negatives_links_bl.loc[false_negatives_links_bl.TYPE == 'TP']\n",
    "    false_negatives_links_bl['CAUSE'] = 'blocking'\n",
    "    false_negatives_links = pd.concat([false_negatives_links_gt, false_negatives_links_bl])\n",
    "    false_negatives_links = false_negatives_links[~false_negatives_links.index.duplicated(keep='last')]\n",
    "    return false_negatives_links\n",
    "\n",
    "# check a record pair. Indexes is a tuple containing the record indices\n",
    "def checkRecordPair(df_A, df_B, features, indexes):\n",
    "    record_A = df_A[df_A.index == indexes[0]].values\n",
    "    record_B = df_B[df_B.index == indexes[1]].values\n",
    "    features_AB = features[(features.index.get_level_values(0) == indexes[0]) & (features.index.get_level_values(1) == indexes[1])]\n",
    "    return record_A, record_B, features_AB\n"
   ]
  },
  {
   "cell_type": "markdown",
   "metadata": {},
   "source": [
    "## Record linkage FFIEC ⭢ LEI"
   ]
  },
  {
   "cell_type": "markdown",
   "metadata": {},
   "source": [
    "In this section we execute the workflow previosly explained to identify the matching records between FFIEC and LEI datasets."
   ]
  },
  {
   "cell_type": "markdown",
   "metadata": {},
   "source": [
    "__Attribute pairs__\n",
    "\n",
    "- Financial Institution Name Cleaned ⭢ LegalNameCleaned\n",
    "- Financial Institution Address ⭢ LegalAddress_Line_Cleaned\n",
    "- Financial Institution City ⭢ LegalAddress_City\n",
    "- Financial Institution State ⭢ LegalAddress_Region_2\n",
    "- Financial Institution Zip Code 5 ⭢ LegalAddress_PostalCode_5"
   ]
  },
  {
   "cell_type": "markdown",
   "metadata": {},
   "source": [
    "### Preprocessing"
   ]
  },
  {
   "cell_type": "code",
   "execution_count": 24,
   "metadata": {},
   "outputs": [],
   "source": [
    "FFIEC, LEI, _ = preprocessAll(df1, df2, df3, name=True, stopwords=True, modifier=True, address=True)"
   ]
  },
  {
   "cell_type": "markdown",
   "metadata": {},
   "source": [
    "### Blocking (Choose one of the two blocking strategies)"
   ]
  },
  {
   "cell_type": "markdown",
   "metadata": {},
   "source": [
    "#### Exact Blocking"
   ]
  },
  {
   "cell_type": "code",
   "execution_count": 25,
   "metadata": {},
   "outputs": [
    {
     "name": "stdout",
     "output_type": "stream",
     "text": [
      "Execution time: 0.07483386993408203 seconds \n"
     ]
    }
   ],
   "source": [
    "candidate_links = exactBlocking(FFIEC, LEI, 'Financial Institution Name Cleaned', 'LegalNameCleaned')"
   ]
  },
  {
   "cell_type": "markdown",
   "metadata": {},
   "source": [
    "Then jump to Exact Blocking Compare section."
   ]
  },
  {
   "cell_type": "markdown",
   "metadata": {},
   "source": [
    "#### Sorted Neighbourhood Blocking"
   ]
  },
  {
   "cell_type": "code",
   "execution_count": 26,
   "metadata": {
    "scrolled": true
   },
   "outputs": [
    {
     "name": "stdout",
     "output_type": "stream",
     "text": [
      "Execution time: 0.1686689853668213 seconds \n"
     ]
    }
   ],
   "source": [
    "candidate_links = sortedNeighbourhoodIndexing(FFIEC, LEI, 'Financial Institution Name Cleaned', 'LegalNameCleaned')"
   ]
  },
  {
   "cell_type": "markdown",
   "metadata": {},
   "source": [
    "Then jump to Sorted Blocking Compare section."
   ]
  },
  {
   "cell_type": "code",
   "execution_count": 27,
   "metadata": {},
   "outputs": [
    {
     "data": {
      "text/plain": [
       "8701"
      ]
     },
     "execution_count": 27,
     "metadata": {},
     "output_type": "execute_result"
    }
   ],
   "source": [
    "len(candidate_links)"
   ]
  },
  {
   "cell_type": "markdown",
   "metadata": {},
   "source": [
    "### Compare (Reminder: choose only one of the two comparison)"
   ]
  },
  {
   "cell_type": "markdown",
   "metadata": {},
   "source": [
    "#### Exact Blocking Compare"
   ]
  },
  {
   "cell_type": "code",
   "execution_count": 28,
   "metadata": {},
   "outputs": [
    {
     "name": "stdout",
     "output_type": "stream",
     "text": [
      "Execution time: 0.08975982666015625 seconds \n",
      "Execution time: 0.08078360557556152 seconds \n"
     ]
    }
   ],
   "source": [
    "# Compare Det\n",
    "str_comp = {'jarowinkler': [\n",
    "    {\n",
    "        'col_names': ['Financial Institution Address', 'LegalAddress_Line_Cleaned'],\n",
    "        'threshold': 0.75\n",
    "    },\n",
    "    {\n",
    "        'col_names': ['Financial Institution City', 'LegalAddress_City'],\n",
    "        'threshold': 0.90\n",
    "    }\n",
    "]}\n",
    "exact_comp = [\n",
    "    {'col_names': ['Financial Institution Zip Code 5', 'LegalAddress_PostalCode_5']},\n",
    "    {'col_names': ['Financial Institution State', 'LegalAddress_Region_2']}\n",
    "]\n",
    "features_det = compareRecords(FFIEC, LEI, candidate_links, str_comp, exact_comp)\n",
    "\n",
    "# Compare ML\n",
    "str_comp = {'jarowinkler': [\n",
    "    {\n",
    "        'col_names': ['Financial Institution Address', 'LegalAddress_Line_Cleaned']\n",
    "    },\n",
    "    {\n",
    "        'col_names': ['Financial Institution City', 'LegalAddress_City']\n",
    "    }\n",
    "]}\n",
    "features_ml = compareRecords(FFIEC, LEI, candidate_links, str_comp, exact_comp)"
   ]
  },
  {
   "cell_type": "markdown",
   "metadata": {},
   "source": [
    "#### Sorted Blocking Compare"
   ]
  },
  {
   "cell_type": "code",
   "execution_count": 29,
   "metadata": {},
   "outputs": [
    {
     "name": "stdout",
     "output_type": "stream",
     "text": [
      "Execution time: 0.11070489883422852 seconds \n",
      "Execution time: 0.10471892356872559 seconds \n"
     ]
    }
   ],
   "source": [
    "# Compare Det\n",
    "str_comp = {'jarowinkler': [\n",
    "    {\n",
    "        'col_names': ['Financial Institution Name Cleaned', 'LegalNameCleaned'],\n",
    "        'threshold': 0.90\n",
    "    },\n",
    "    {\n",
    "        'col_names': ['Financial Institution Address', 'LegalAddress_Line_Cleaned'],\n",
    "        'threshold': 0.85\n",
    "    },\n",
    "    {\n",
    "        'col_names': ['Financial Institution City', 'LegalAddress_City'],\n",
    "        'threshold': 0.90\n",
    "    }\n",
    "]}\n",
    "exact_comp = [\n",
    "    {'col_names': ['Financial Institution Zip Code 5', 'LegalAddress_PostalCode_5']}\n",
    "]\n",
    "features_det = compareRecords(FFIEC, LEI, candidate_links, str_comp, exact_comp)\n",
    "\n",
    "# Compare ML\n",
    "str_comp = {'jarowinkler': [\n",
    "    {\n",
    "        'col_names': ['Financial Institution Name Cleaned', 'LegalNameCleaned']\n",
    "    },\n",
    "    {\n",
    "        'col_names': ['Financial Institution Address', 'LegalAddress_Line_Cleaned']\n",
    "    },\n",
    "    {\n",
    "        'col_names': ['Financial Institution City', 'LegalAddress_City']\n",
    "    }\n",
    "]}\n",
    "\n",
    "features_ml = compareRecords(FFIEC, LEI, candidate_links, str_comp, exact_comp)"
   ]
  },
  {
   "cell_type": "markdown",
   "metadata": {},
   "source": [
    "### Classification"
   ]
  },
  {
   "cell_type": "markdown",
   "metadata": {},
   "source": [
    "#### Deterministic"
   ]
  },
  {
   "cell_type": "code",
   "execution_count": 30,
   "metadata": {},
   "outputs": [],
   "source": [
    "links_pred_det = getDeterministicMatches(features_det)"
   ]
  },
  {
   "cell_type": "markdown",
   "metadata": {},
   "source": [
    "Perfomance measures based on the ground truth available:"
   ]
  },
  {
   "cell_type": "code",
   "execution_count": 31,
   "metadata": {},
   "outputs": [
    {
     "name": "stdout",
     "output_type": "stream",
     "text": [
      "[[482.  14.]\n",
      " [ 65.  nan]]\n",
      "PRECISION:  0.8811700182815356\n",
      "RECALL:  0.9717741935483871\n",
      "F-SCORE:  0.9242569511025887\n"
     ]
    }
   ],
   "source": [
    "cm_det, prec_det, rec_det, fscore = getPerformance(FFIEC_LEI_gt, links_pred_det.index)\n",
    "print(cm_det)\n",
    "print('PRECISION: ', prec_det)\n",
    "print('RECALL: ', rec_det)\n",
    "print('F-SCORE: ', fscore)"
   ]
  },
  {
   "cell_type": "markdown",
   "metadata": {},
   "source": [
    "#### Unsupervised Machine Learning"
   ]
  },
  {
   "cell_type": "markdown",
   "metadata": {},
   "source": [
    "##### K-means"
   ]
  },
  {
   "cell_type": "code",
   "execution_count": 32,
   "metadata": {},
   "outputs": [],
   "source": [
    "links_pred_km = getMachineLearningMatches('kmeans', features_ml)"
   ]
  },
  {
   "cell_type": "markdown",
   "metadata": {},
   "source": [
    "Perfomance measures based on the ground truth available:"
   ]
  },
  {
   "cell_type": "code",
   "execution_count": 33,
   "metadata": {},
   "outputs": [
    {
     "name": "stdout",
     "output_type": "stream",
     "text": [
      "[[469.  27.]\n",
      " [114.  nan]]\n",
      "PRECISION:  0.8044596912521441\n",
      "RECALL:  0.9455645161290323\n",
      "F-SCORE:  0.8693234476367006\n"
     ]
    }
   ],
   "source": [
    "cm_km, prec_km, rec_km, fscore = getPerformance(FFIEC_LEI_gt, links_pred_km)\n",
    "print(cm_km)\n",
    "print('PRECISION: ', prec_km)\n",
    "print('RECALL: ', rec_km)\n",
    "print('F-SCORE: ', fscore)"
   ]
  },
  {
   "cell_type": "markdown",
   "metadata": {},
   "source": [
    "##### ECM"
   ]
  },
  {
   "cell_type": "code",
   "execution_count": 34,
   "metadata": {},
   "outputs": [],
   "source": [
    "links_pred_ecm = getMachineLearningMatches('ECM', features_ml)"
   ]
  },
  {
   "cell_type": "markdown",
   "metadata": {},
   "source": [
    "Perfomance measures based on the ground truth available:"
   ]
  },
  {
   "cell_type": "code",
   "execution_count": 35,
   "metadata": {},
   "outputs": [
    {
     "name": "stdout",
     "output_type": "stream",
     "text": [
      "[[469.  27.]\n",
      " [114.  nan]]\n",
      "PRECISION:  0.8044596912521441\n",
      "RECALL:  0.9455645161290323\n",
      "F-SCORE:  0.8693234476367006\n"
     ]
    }
   ],
   "source": [
    "cm_ecm, prec_ecm, rec_ecm, fscore = getPerformance(FFIEC_LEI_gt, links_pred_ecm)\n",
    "print(cm_ecm)\n",
    "print('PRECISION: ', prec_ecm)\n",
    "print('RECALL: ', rec_ecm)\n",
    "print('F-SCORE: ', fscore)"
   ]
  },
  {
   "cell_type": "markdown",
   "metadata": {},
   "source": [
    "## Record linkage FFIEC ⭢ SEC"
   ]
  },
  {
   "cell_type": "markdown",
   "metadata": {},
   "source": [
    "In this section we execute the workflow previosly explained to identify the matching records between FFIEC and SEC datasets."
   ]
  },
  {
   "cell_type": "markdown",
   "metadata": {},
   "source": [
    "- Financial Institution Name Cleaned ⭢ CONFORMED_NAME\n",
    "- Financial Institution Address ⭢ B_STREET\n",
    "- Financial Institution City ⭢ B_CITY\n",
    "- Financial Institution State ⭢ B_STPR\n",
    "- Financial Institution Zip Code 5 ⭢ B_POSTAL"
   ]
  },
  {
   "cell_type": "markdown",
   "metadata": {},
   "source": [
    "### Preprocessing"
   ]
  },
  {
   "cell_type": "code",
   "execution_count": 36,
   "metadata": {},
   "outputs": [],
   "source": [
    "FFIEC, _, SEC = preprocessAll(df1, df2, df3, name=True, stopwords=True, modifier=True, address=True)"
   ]
  },
  {
   "cell_type": "markdown",
   "metadata": {},
   "source": [
    "### Blocking (Choose one of the two blocking strategies)"
   ]
  },
  {
   "cell_type": "markdown",
   "metadata": {},
   "source": [
    "#### Exact Blocking"
   ]
  },
  {
   "cell_type": "code",
   "execution_count": 37,
   "metadata": {},
   "outputs": [
    {
     "name": "stdout",
     "output_type": "stream",
     "text": [
      "Execution time: 0.11670708656311035 seconds \n"
     ]
    }
   ],
   "source": [
    "candidate_links = exactBlocking(FFIEC, SEC, 'Financial Institution Name Cleaned', 'CONFORMED_NAME')"
   ]
  },
  {
   "cell_type": "markdown",
   "metadata": {},
   "source": [
    "Then jump to Exact Blocking Compare section."
   ]
  },
  {
   "cell_type": "markdown",
   "metadata": {},
   "source": [
    "#### Sorted Neighbourhood Blocking"
   ]
  },
  {
   "cell_type": "code",
   "execution_count": 38,
   "metadata": {
    "scrolled": true
   },
   "outputs": [
    {
     "name": "stdout",
     "output_type": "stream",
     "text": [
      "Execution time: 0.347886323928833 seconds \n"
     ]
    }
   ],
   "source": [
    "candidate_links = sortedNeighbourhoodIndexing(FFIEC, SEC, 'Financial Institution Name Cleaned', 'CONFORMED_NAME')"
   ]
  },
  {
   "cell_type": "markdown",
   "metadata": {},
   "source": [
    "Then jump to Sorted Blocking Compare section."
   ]
  },
  {
   "cell_type": "code",
   "execution_count": 39,
   "metadata": {},
   "outputs": [
    {
     "data": {
      "text/plain": [
       "9163"
      ]
     },
     "execution_count": 39,
     "metadata": {},
     "output_type": "execute_result"
    }
   ],
   "source": [
    "len(candidate_links)"
   ]
  },
  {
   "cell_type": "markdown",
   "metadata": {},
   "source": [
    "### Compare (Reminder: choose only one of the two comparison)"
   ]
  },
  {
   "cell_type": "markdown",
   "metadata": {},
   "source": [
    "#### Exact Blocking Compare"
   ]
  },
  {
   "cell_type": "code",
   "execution_count": 40,
   "metadata": {},
   "outputs": [
    {
     "name": "stdout",
     "output_type": "stream",
     "text": [
      "Execution time: 0.10272479057312012 seconds \n",
      "Execution time: 0.07878971099853516 seconds \n"
     ]
    }
   ],
   "source": [
    "# Compare Det\n",
    "str_comp = {'jarowinkler': [\n",
    "    {\n",
    "        'col_names': ['Financial Institution Address', 'B_STREET'],\n",
    "        'threshold': 0.75\n",
    "    },\n",
    "    {\n",
    "        'col_names': ['Financial Institution City', 'B_CITY'],\n",
    "        'threshold': 0.90\n",
    "    }\n",
    "]}\n",
    "exact_comp = [\n",
    "    {'col_names': ['Financial Institution Zip Code 5', 'B_POSTAL']},\n",
    "    {'col_names': ['Financial Institution State', 'B_STPR']}\n",
    "]\n",
    "features_det = compareRecords(FFIEC, SEC, candidate_links, str_comp, exact_comp)\n",
    "\n",
    "# Compare ML\n",
    "str_comp = {'jarowinkler': [\n",
    "    {\n",
    "        'col_names': ['Financial Institution Address', 'B_STREET']\n",
    "    },\n",
    "    {\n",
    "        'col_names': ['Financial Institution City', 'B_CITY']\n",
    "    }\n",
    "]}\n",
    "\n",
    "features_ml = compareRecords(FFIEC, SEC, candidate_links, str_comp, exact_comp)"
   ]
  },
  {
   "cell_type": "markdown",
   "metadata": {},
   "source": [
    "#### Sorted Blocking Compare"
   ]
  },
  {
   "cell_type": "code",
   "execution_count": 41,
   "metadata": {},
   "outputs": [
    {
     "name": "stdout",
     "output_type": "stream",
     "text": [
      "Execution time: 0.11469483375549316 seconds \n",
      "Execution time: 0.11220407485961914 seconds \n"
     ]
    }
   ],
   "source": [
    "# Compare Det\n",
    "str_comp = {'jarowinkler': [\n",
    "    {\n",
    "        'col_names': ['Financial Institution Name Cleaned', 'CONFORMED_NAME'],\n",
    "        'threshold': 0.90\n",
    "    },\n",
    "    {\n",
    "        'col_names': ['Financial Institution Address', 'B_STREET'],\n",
    "        'threshold': 0.85\n",
    "    },\n",
    "    {\n",
    "        'col_names': ['Financial Institution City', 'B_CITY'],\n",
    "        'threshold': 0.90\n",
    "    }\n",
    "]}\n",
    "exact_comp = [\n",
    "    {'col_names': ['Financial Institution Zip Code 5', 'B_POSTAL']}\n",
    "]\n",
    "features_det = compareRecords(FFIEC, SEC, candidate_links, str_comp, exact_comp)\n",
    "\n",
    "# Compare ML\n",
    "str_comp = {'jarowinkler': [\n",
    "    {\n",
    "        'col_names': ['Financial Institution Name Cleaned', 'CONFORMED_NAME']\n",
    "    },\n",
    "    {\n",
    "        'col_names': ['Financial Institution Address', 'B_STREET']\n",
    "    },\n",
    "    {\n",
    "        'col_names': ['Financial Institution City', 'B_CITY']\n",
    "    }\n",
    "]}\n",
    "\n",
    "features_ml = compareRecords(FFIEC, SEC, candidate_links, str_comp, exact_comp)"
   ]
  },
  {
   "cell_type": "markdown",
   "metadata": {},
   "source": [
    "### Classification"
   ]
  },
  {
   "cell_type": "markdown",
   "metadata": {},
   "source": [
    "#### Deterministic"
   ]
  },
  {
   "cell_type": "code",
   "execution_count": 42,
   "metadata": {},
   "outputs": [],
   "source": [
    "links_pred_det = getDeterministicMatches(features_det)"
   ]
  },
  {
   "cell_type": "markdown",
   "metadata": {},
   "source": [
    "Perfomance measures based on the ground truth available:"
   ]
  },
  {
   "cell_type": "code",
   "execution_count": 43,
   "metadata": {},
   "outputs": [
    {
     "name": "stdout",
     "output_type": "stream",
     "text": [
      "[[184.  46.]\n",
      " [471.  nan]]\n",
      "PRECISION:  0.28091603053435116\n",
      "RECALL:  0.8\n",
      "F-SCORE:  0.415819209039548\n"
     ]
    }
   ],
   "source": [
    "cm_det, prec_det, rec_det, fscore = getPerformance(FFIEC_SEC_gt, links_pred_det.index)\n",
    "print(cm_det)\n",
    "print('PRECISION: ', prec_det)\n",
    "print('RECALL: ', rec_det)\n",
    "print('F-SCORE: ', fscore)"
   ]
  },
  {
   "cell_type": "markdown",
   "metadata": {},
   "source": [
    "#### Unsupervised Machine Learning"
   ]
  },
  {
   "cell_type": "markdown",
   "metadata": {},
   "source": [
    "##### K-means"
   ]
  },
  {
   "cell_type": "code",
   "execution_count": 44,
   "metadata": {},
   "outputs": [],
   "source": [
    "links_pred_km = getMachineLearningMatches('kmeans', features_ml)"
   ]
  },
  {
   "cell_type": "markdown",
   "metadata": {},
   "source": [
    "Perfomance measures based on the ground truth available:"
   ]
  },
  {
   "cell_type": "code",
   "execution_count": 45,
   "metadata": {},
   "outputs": [
    {
     "name": "stdout",
     "output_type": "stream",
     "text": [
      "[[175.  55.]\n",
      " [505.  nan]]\n",
      "PRECISION:  0.25735294117647056\n",
      "RECALL:  0.7608695652173914\n",
      "F-SCORE:  0.38461538461538464\n"
     ]
    }
   ],
   "source": [
    "cm_km, prec_km, rec_km, fscore = getPerformance(FFIEC_SEC_gt, links_pred_km)\n",
    "print(cm_km)\n",
    "print('PRECISION: ', prec_km)\n",
    "print('RECALL: ', rec_km)\n",
    "print('F-SCORE: ', fscore)"
   ]
  },
  {
   "cell_type": "markdown",
   "metadata": {},
   "source": [
    "##### ECM"
   ]
  },
  {
   "cell_type": "code",
   "execution_count": 46,
   "metadata": {},
   "outputs": [],
   "source": [
    "links_pred_ecm = getMachineLearningMatches('ECM', features_ml)"
   ]
  },
  {
   "cell_type": "markdown",
   "metadata": {},
   "source": [
    "Perfomance measures based on the ground truth available:"
   ]
  },
  {
   "cell_type": "code",
   "execution_count": 47,
   "metadata": {},
   "outputs": [
    {
     "name": "stdout",
     "output_type": "stream",
     "text": [
      "[[175.  55.]\n",
      " [505.  nan]]\n",
      "PRECISION:  0.25735294117647056\n",
      "RECALL:  0.7608695652173914\n",
      "F-SCORE:  0.38461538461538464\n"
     ]
    }
   ],
   "source": [
    "cm_ecm, prec_ecm, rec_ecm, fscore = getPerformance(FFIEC_SEC_gt, links_pred_ecm)\n",
    "print(cm_ecm)\n",
    "print('PRECISION: ', prec_ecm)\n",
    "print('RECALL: ', rec_ecm)\n",
    "print('F-SCORE: ', fscore)"
   ]
  },
  {
   "cell_type": "markdown",
   "metadata": {},
   "source": [
    "#### Supervised Machine Learning"
   ]
  },
  {
   "cell_type": "markdown",
   "metadata": {},
   "source": [
    "We decided to implement a supervised machine learning approach only for these two datasets because of a bigger and more balanced ground truth available to use as a training set."
   ]
  },
  {
   "cell_type": "markdown",
   "metadata": {},
   "source": [
    "In this case we have a multi class supervised classification. The target values are __TP__ (Matches), __TN__ (Not Matches), __Ambiguous__"
   ]
  },
  {
   "cell_type": "markdown",
   "metadata": {},
   "source": [
    "##### Blocking"
   ]
  },
  {
   "cell_type": "markdown",
   "metadata": {},
   "source": [
    "This time we considered a bigger window for the blocking algorithm to have more examples to classify."
   ]
  },
  {
   "cell_type": "code",
   "execution_count": 48,
   "metadata": {},
   "outputs": [
    {
     "name": "stdout",
     "output_type": "stream",
     "text": [
      "Execution time: 0.5510342121124268 seconds \n"
     ]
    }
   ],
   "source": [
    "candidate_links = sortedNeighbourhoodIndexing(FFIEC, SEC, 'Financial Institution Name Cleaned', 'CONFORMED_NAME', window=15)"
   ]
  },
  {
   "cell_type": "markdown",
   "metadata": {},
   "source": [
    "##### Compare"
   ]
  },
  {
   "cell_type": "markdown",
   "metadata": {},
   "source": [
    "We also decided to compare all attributes for a better classification."
   ]
  },
  {
   "cell_type": "code",
   "execution_count": 49,
   "metadata": {},
   "outputs": [
    {
     "name": "stdout",
     "output_type": "stream",
     "text": [
      "Execution time: 0.656287670135498 seconds \n"
     ]
    }
   ],
   "source": [
    "str_comp = {'jarowinkler': [\n",
    "    {\n",
    "        'col_names': ['Financial Institution Name Cleaned', 'CONFORMED_NAME'],\n",
    "        #'threshold': 0.90\n",
    "    },\n",
    "    {\n",
    "        'col_names': ['Financial Institution Address', 'B_STREET'],\n",
    "        #'threshold': 0.85\n",
    "    },\n",
    "    {\n",
    "        'col_names': ['Financial Institution City', 'B_CITY'],\n",
    "        #'threshold': 0.85\n",
    "    }\n",
    "]}\n",
    "exact_comp = [\n",
    "    {'col_names': ['Financial Institution Zip Code 5', 'B_POSTAL']},\n",
    "    {'col_names': ['Financial Institution State', 'B_STPR']}\n",
    "]\n",
    "features = compareRecords(FFIEC, SEC, candidate_links, str_comp, exact_comp)"
   ]
  },
  {
   "cell_type": "markdown",
   "metadata": {},
   "source": [
    "##### Preprocessing"
   ]
  },
  {
   "cell_type": "markdown",
   "metadata": {},
   "source": [
    "The ground truth is still unbalanced so we proceed to balance the minority class (Ambiguous) with the majority classes (FN and TP) with a process of undersampling."
   ]
  },
  {
   "cell_type": "code",
   "execution_count": 50,
   "metadata": {},
   "outputs": [
    {
     "data": {
      "image/png": "[encoded data removed]",
      "text/plain": [
       "<Figure size 432x288 with 2 Axes>"
      ]
     },
     "metadata": {
      "needs_background": "light"
     },
     "output_type": "display_data"
    }
   ],
   "source": [
    "features = preprocessForSupervised(features, FFIEC_SEC_gt)"
   ]
  },
  {
   "cell_type": "markdown",
   "metadata": {},
   "source": [
    "##### Supervised classification with Random Forest classifier"
   ]
  },
  {
   "cell_type": "code",
   "execution_count": 51,
   "metadata": {},
   "outputs": [],
   "source": [
    "skf = StratifiedKFold(n_splits=10, random_state=100, shuffle=True)\n",
    "clf = RandomForestClassifier(random_state=100)\n",
    "params = {}\n",
    "gs = GridSearchCV(clf, cv=skf, param_grid=params, scoring=['precision_macro', 'recall_macro', 'f1_macro'], refit='f1_macro')"
   ]
  },
  {
   "cell_type": "markdown",
   "metadata": {},
   "source": [
    "Subset data in training set and test set"
   ]
  },
  {
   "cell_type": "code",
   "execution_count": 52,
   "metadata": {},
   "outputs": [],
   "source": [
    "X_train, X_test, y_train, y_test = train_test_split(features.iloc[:,0:len(features.columns) - 1], features['TYPE'], test_size=0.25, random_state=100)"
   ]
  },
  {
   "cell_type": "markdown",
   "metadata": {},
   "source": [
    "Train on trainining data"
   ]
  },
  {
   "cell_type": "code",
   "execution_count": 53,
   "metadata": {},
   "outputs": [],
   "source": [
    "y_pred = clf.fit(X_train, y_train).predict(X_test)"
   ]
  },
  {
   "cell_type": "markdown",
   "metadata": {},
   "source": [
    "Evaluate on test set"
   ]
  },
  {
   "cell_type": "code",
   "execution_count": 54,
   "metadata": {},
   "outputs": [
    {
     "data": {
      "text/plain": [
       "array([[17,  5,  4],\n",
       "       [ 3, 20,  5],\n",
       "       [ 9, 12,  8]], dtype=int64)"
      ]
     },
     "execution_count": 54,
     "metadata": {},
     "output_type": "execute_result"
    }
   ],
   "source": [
    "confusion_matrix(y_test, y_pred)"
   ]
  },
  {
   "cell_type": "markdown",
   "metadata": {},
   "source": [
    "Some predicted match status examples:"
   ]
  },
  {
   "cell_type": "code",
   "execution_count": 55,
   "metadata": {},
   "outputs": [
    {
     "name": "stdout",
     "output_type": "stream",
     "text": [
      "Record classified as matches:\n"
     ]
    },
    {
     "data": {
      "text/html": [
       "<div>\n",
       "<style scoped>\n",
       "    .dataframe tbody tr th:only-of-type {\n",
       "        vertical-align: middle;\n",
       "    }\n",
       "\n",
       "    .dataframe tbody tr th {\n",
       "        vertical-align: top;\n",
       "    }\n",
       "\n",
       "    .dataframe thead th {\n",
       "        text-align: right;\n",
       "    }\n",
       "</style>\n",
       "<table border=\"1\" class=\"dataframe\">\n",
       "  <thead>\n",
       "    <tr style=\"text-align: right;\">\n",
       "      <th></th>\n",
       "      <th></th>\n",
       "      <th>TYPE</th>\n",
       "      <th>PREDICTION</th>\n",
       "    </tr>\n",
       "    <tr>\n",
       "      <th>FFIEC_ID</th>\n",
       "      <th>SEC_ID</th>\n",
       "      <th></th>\n",
       "      <th></th>\n",
       "    </tr>\n",
       "  </thead>\n",
       "  <tbody>\n",
       "    <tr>\n",
       "      <th>2868352</th>\n",
       "      <th>1145956</th>\n",
       "      <td>1</td>\n",
       "      <td>1</td>\n",
       "    </tr>\n",
       "    <tr>\n",
       "      <th>3058114</th>\n",
       "      <th>1299582</th>\n",
       "      <td>1</td>\n",
       "      <td>1</td>\n",
       "    </tr>\n",
       "    <tr>\n",
       "      <th>463735</th>\n",
       "      <th>879089</th>\n",
       "      <td>2</td>\n",
       "      <td>1</td>\n",
       "    </tr>\n",
       "    <tr>\n",
       "      <th>2713920</th>\n",
       "      <th>1135986</th>\n",
       "      <td>1</td>\n",
       "      <td>1</td>\n",
       "    </tr>\n",
       "    <tr>\n",
       "      <th>972406</th>\n",
       "      <th>829937</th>\n",
       "      <td>2</td>\n",
       "      <td>1</td>\n",
       "    </tr>\n",
       "    <tr>\n",
       "      <th>480228</th>\n",
       "      <th>1102113</th>\n",
       "      <td>2</td>\n",
       "      <td>1</td>\n",
       "    </tr>\n",
       "    <tr>\n",
       "      <th>3547131</th>\n",
       "      <th>1537720</th>\n",
       "      <td>1</td>\n",
       "      <td>1</td>\n",
       "    </tr>\n",
       "    <tr>\n",
       "      <th>509811</th>\n",
       "      <th>1291629</th>\n",
       "      <td>1</td>\n",
       "      <td>1</td>\n",
       "    </tr>\n",
       "    <tr>\n",
       "      <th>930358</th>\n",
       "      <th>1506985</th>\n",
       "      <td>0</td>\n",
       "      <td>1</td>\n",
       "    </tr>\n",
       "    <tr>\n",
       "      <th>991340</th>\n",
       "      <th>356264</th>\n",
       "      <td>2</td>\n",
       "      <td>1</td>\n",
       "    </tr>\n",
       "  </tbody>\n",
       "</table>\n",
       "</div>"
      ],
      "text/plain": [
       "                  TYPE  PREDICTION\n",
       "FFIEC_ID SEC_ID                   \n",
       "2868352  1145956     1           1\n",
       "3058114  1299582     1           1\n",
       "463735   879089      2           1\n",
       "2713920  1135986     1           1\n",
       "972406   829937      2           1\n",
       "480228   1102113     2           1\n",
       "3547131  1537720     1           1\n",
       "509811   1291629     1           1\n",
       "930358   1506985     0           1\n",
       "991340   356264      2           1"
      ]
     },
     "execution_count": 55,
     "metadata": {},
     "output_type": "execute_result"
    }
   ],
   "source": [
    "examples = pd.DataFrame(y_test)\n",
    "examples['PREDICTION'] = y_pred\n",
    "print('Record classified as matches:')\n",
    "examples_TP = examples[examples.PREDICTION == 1].head(10)\n",
    "examples_TP"
   ]
  },
  {
   "cell_type": "code",
   "execution_count": 56,
   "metadata": {},
   "outputs": [
    {
     "data": {
      "text/plain": [
       "(array([['united bankers bank', '1650 w 82nd st su 1500', 'bloomington',\n",
       "         'MN', '55431', None]], dtype=object),\n",
       " array([['united bankers bancorporation', '1650 w 82nd st su 1500',\n",
       "         'bloomington', 'MN', '55431', 'incorporated']], dtype=object),\n",
       "                   Financial Institution Name Cleaned  \\\n",
       " FFIEC_ID SEC_ID                                        \n",
       " 930358   1506985                            0.913612   \n",
       " \n",
       "                   Financial Institution Address  Financial Institution City  \\\n",
       " FFIEC_ID SEC_ID                                                               \n",
       " 930358   1506985                            1.0                         1.0   \n",
       " \n",
       "                   Financial Institution Zip Code 5  \\\n",
       " FFIEC_ID SEC_ID                                      \n",
       " 930358   1506985                                 1   \n",
       " \n",
       "                   Financial Institution State  TYPE  \n",
       " FFIEC_ID SEC_ID                                      \n",
       " 930358   1506985                            1     0  )"
      ]
     },
     "execution_count": 56,
     "metadata": {},
     "output_type": "execute_result"
    }
   ],
   "source": [
    "checkRecordPair(FFIEC, SEC, features, (930358,1506985))"
   ]
  },
  {
   "cell_type": "markdown",
   "metadata": {},
   "source": [
    "Since we have a very small amount of data a better evaluation is estimated with a stratified 10-fold cross validation"
   ]
  },
  {
   "cell_type": "code",
   "execution_count": 57,
   "metadata": {},
   "outputs": [],
   "source": [
    "y_pred = gs.fit(features.iloc[:,0:len(features.columns) - 1], features['TYPE'])"
   ]
  },
  {
   "cell_type": "code",
   "execution_count": 58,
   "metadata": {},
   "outputs": [
    {
     "data": {
      "text/plain": [
       "{'mean_fit_time': array([0.09101467]),\n",
       " 'std_fit_time': array([0.00808395]),\n",
       " 'mean_score_time': array([0.0081352]),\n",
       " 'std_score_time': array([0.00022919]),\n",
       " 'params': [{}],\n",
       " 'split0_test_precision_macro': array([0.58333333]),\n",
       " 'split1_test_precision_macro': array([0.41595442]),\n",
       " 'split2_test_precision_macro': array([0.65201465]),\n",
       " 'split3_test_precision_macro': array([0.65509259]),\n",
       " 'split4_test_precision_macro': array([0.61805556]),\n",
       " 'split5_test_precision_macro': array([0.68868169]),\n",
       " 'split6_test_precision_macro': array([0.50980392]),\n",
       " 'split7_test_precision_macro': array([0.59920635]),\n",
       " 'split8_test_precision_macro': array([0.71428571]),\n",
       " 'split9_test_precision_macro': array([0.48148148]),\n",
       " 'mean_test_precision_macro': array([0.59179097]),\n",
       " 'std_test_precision_macro': array([0.09091296]),\n",
       " 'rank_test_precision_macro': array([1]),\n",
       " 'split0_test_recall_macro': array([0.58333333]),\n",
       " 'split1_test_recall_macro': array([0.52777778]),\n",
       " 'split2_test_recall_macro': array([0.64814815]),\n",
       " 'split3_test_recall_macro': array([0.64814815]),\n",
       " 'split4_test_recall_macro': array([0.62037037]),\n",
       " 'split5_test_recall_macro': array([0.68518519]),\n",
       " 'split6_test_recall_macro': array([0.48148148]),\n",
       " 'split7_test_recall_macro': array([0.59259259]),\n",
       " 'split8_test_recall_macro': array([0.68518519]),\n",
       " 'split9_test_recall_macro': array([0.44444444]),\n",
       " 'mean_test_recall_macro': array([0.59166667]),\n",
       " 'std_test_recall_macro': array([0.0791599]),\n",
       " 'rank_test_recall_macro': array([1]),\n",
       " 'split0_test_f1_macro': array([0.58333333]),\n",
       " 'split1_test_f1_macro': array([0.46222222]),\n",
       " 'split2_test_f1_macro': array([0.64666667]),\n",
       " 'split3_test_f1_macro': array([0.64098973]),\n",
       " 'split4_test_f1_macro': array([0.6092437]),\n",
       " 'split5_test_f1_macro': array([0.68605475]),\n",
       " 'split6_test_f1_macro': array([0.44698979]),\n",
       " 'split7_test_f1_macro': array([0.59188034]),\n",
       " 'split8_test_f1_macro': array([0.69192211]),\n",
       " 'split9_test_f1_macro': array([0.44761905]),\n",
       " 'mean_test_f1_macro': array([0.58069217]),\n",
       " 'std_test_f1_macro': array([0.09056989]),\n",
       " 'rank_test_f1_macro': array([1])}"
      ]
     },
     "execution_count": 58,
     "metadata": {},
     "output_type": "execute_result"
    }
   ],
   "source": [
    "gs.cv_results_"
   ]
  }
 ],
 "metadata": {
  "kernelspec": {
   "display_name": "Python 3",
   "language": "python",
   "name": "python3"
  },
  "language_info": {
   "codemirror_mode": {
    "name": "ipython",
    "version": 3
   },
   "file_extension": ".py",
   "mimetype": "text/x-python",
   "name": "python",
   "nbconvert_exporter": "python",
   "pygments_lexer": "ipython3",
   "version": "3.8.3"
  }
 },
 "nbformat": 4,
 "nbformat_minor": 4
}
